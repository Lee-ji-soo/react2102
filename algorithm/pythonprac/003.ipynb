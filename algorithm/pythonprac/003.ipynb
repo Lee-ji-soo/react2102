{
 "cells": [
  {
   "cell_type": "code",
   "execution_count": 8,
   "metadata": {},
   "outputs": [
    {
     "name": "stdout",
     "output_type": "stream",
     "text": [
      "hello world 1\n",
      "hello world 2\n",
      "hello world 3\n",
      "hello world 4\n",
      "hello world 5\n",
      "hello world 6\n",
      "hello world 7\n",
      "hello world 8\n",
      "hello world 9\n",
      "hello world 10\n"
     ]
    }
   ],
   "source": [
    "#2부\n",
    "#반복문 (while, for) 조건문(If, elif, else)\n",
    "\n",
    "a = 1 \n",
    "while True:\n",
    "    print(\"hello world\", a)\n",
    "    if a > 9:\n",
    "        break\n",
    "    a += 1\n",
    "else:\n",
    "    print(\"good job\")"
   ]
  },
  {
   "cell_type": "code",
   "execution_count": 11,
   "metadata": {},
   "outputs": [
    {
     "name": "stdout",
     "output_type": "stream",
     "text": [
      "hello world 1\n",
      "hello world 2\n",
      "hello world 3\n",
      "hello world 4\n",
      "good job\n"
     ]
    }
   ],
   "source": [
    "a = 1 \n",
    "while a < 5:\n",
    "    print(\"hello world\", a)\n",
    "    if a > 9:\n",
    "        break\n",
    "    a += 1\n",
    "else:\n",
    "    print(\"good job\")"
   ]
  },
  {
   "cell_type": "code",
   "execution_count": 18,
   "metadata": {},
   "outputs": [
    {
     "name": "stdout",
     "output_type": "stream",
     "text": [
      "10\n",
      "20\n",
      "30\n",
      "40\n",
      "0\n",
      "1\n",
      "2\n",
      "3\n",
      "4\n",
      "5\n",
      "6\n",
      "7\n",
      "8\n",
      "9\n"
     ]
    }
   ],
   "source": [
    "l = [10, 20, 30, 40]\n",
    "s = {10, 20, 30, 40, 10, 10, }\n",
    "d = {\"one\":1, \"tow\":2}\n",
    "for i in l:\n",
    "    print(i)\n",
    "for i in range(10):\n",
    "    print(i)"
   ]
  },
  {
   "cell_type": "code",
   "execution_count": 25,
   "metadata": {},
   "outputs": [
    {
     "name": "stdout",
     "output_type": "stream",
     "text": [
      "<class 'range'>\n",
      "[0, 1, 2, 3, 4, 5, 6, 7, 8, 9]\n",
      "1 [0, 1, 2, 3, 4, 5, 6, 7, 8, 9]\n",
      "2 [5, 6, 7, 8, 9]\n",
      "3 [2, 4, 6, 8]\n",
      "4 [10, 9, 8, 7, 6]\n",
      "5 []\n"
     ]
    }
   ],
   "source": [
    "print(type(range(10)))\n",
    "print(list(range(10)))\n",
    "print(1, list(range(10)))\n",
    "print(2, list(range(5, 10)))\n",
    "print(3, list(range(2, 10, 2)))\n",
    "print(4, list(range(10, 5, -1)))\n",
    "print(5, list(range(-10)))"
   ]
  },
  {
   "cell_type": "code",
   "execution_count": 27,
   "metadata": {},
   "outputs": [
    {
     "name": "stdout",
     "output_type": "stream",
     "text": [
      "h\n",
      "e\n",
      "l\n",
      "l\n",
      "o\n",
      " \n",
      "w\n",
      "o\n",
      "r\n",
      "l\n",
      "d\n"
     ]
    }
   ],
   "source": [
    "for i in \"hello world\":\n",
    "    print(i)"
   ]
  },
  {
   "cell_type": "code",
   "execution_count": 32,
   "metadata": {},
   "outputs": [
    {
     "name": "stdout",
     "output_type": "stream",
     "text": [
      "0\n",
      "1\n",
      "2\n",
      "3\n",
      "4\n",
      "5\n"
     ]
    }
   ],
   "source": [
    "for i in range(10):\n",
    "    print(i)\n",
    "    if i == 5:\n",
    "        break\n",
    "else:\n",
    "    print(\"good job\")"
   ]
  },
  {
   "cell_type": "code",
   "execution_count": 41,
   "metadata": {},
   "outputs": [
    {
     "name": "stdout",
     "output_type": "stream",
     "text": [
      "[0, 1, 2, 3, 4, 5, 6, 7, 8, 9, 10, 11, 12, 13, 14, 15, 16, 17, 18, 19, 20, 21, 22, 23, 24, 25, 26, 27, 28, 29, 30, 31, 32, 33, 34, 35, 36, 37, 38, 39, 40, 41, 42, 43, 44, 45, 46, 47, 48, 49, 50, 51, 52, 53, 54, 55, 56, 57, 58, 59, 60, 61, 62, 63, 64, 65, 66, 67, 68, 69, 70, 71, 72, 73, 74, 75, 76, 77, 78, 79, 80, 81, 82, 83, 84, 85, 86, 87, 88, 89, 90, 91, 92, 93, 94, 95, 96, 97, 98, 99, 100]\n",
      "[0, 1, 2, 3, 4, 5, 6, 7, 8, 9]\n",
      "2x1 =2\n",
      "2x2 =4\n",
      "2x3 =6\n",
      "2x4 =8\n",
      "2x5 =10\n",
      "2x6 =12\n",
      "2x7 =14\n",
      "2x8 =16\n",
      "2x9 =18\n",
      "3x1 =3\n",
      "3x2 =6\n",
      "3x3 =9\n",
      "3x4 =12\n",
      "3x5 =15\n",
      "3x6 =18\n",
      "3x7 =21\n",
      "3x8 =24\n",
      "3x9 =27\n",
      "4x1 =4\n",
      "4x2 =8\n",
      "4x3 =12\n",
      "4x4 =16\n",
      "4x5 =20\n",
      "4x6 =24\n",
      "4x7 =28\n",
      "4x8 =32\n",
      "4x9 =36\n",
      "5x1 =5\n",
      "5x2 =10\n",
      "5x3 =15\n",
      "5x4 =20\n",
      "5x5 =25\n",
      "5x6 =30\n",
      "5x7 =35\n",
      "5x8 =40\n",
      "5x9 =45\n",
      "6x1 =6\n",
      "6x2 =12\n",
      "6x3 =18\n",
      "6x4 =24\n",
      "6x5 =30\n",
      "6x6 =36\n",
      "6x7 =42\n",
      "6x8 =48\n",
      "6x9 =54\n",
      "7x1 =7\n",
      "7x2 =14\n",
      "7x3 =21\n",
      "7x4 =28\n",
      "7x5 =35\n",
      "7x6 =42\n",
      "7x7 =49\n",
      "7x8 =56\n",
      "7x9 =63\n",
      "8x1 =8\n",
      "8x2 =16\n",
      "8x3 =24\n",
      "8x4 =32\n",
      "8x5 =40\n",
      "8x6 =48\n",
      "8x7 =56\n",
      "8x8 =64\n",
      "8x9 =72\n",
      "9x1 =9\n",
      "9x2 =18\n",
      "9x3 =27\n",
      "9x4 =36\n",
      "9x5 =45\n",
      "9x6 =54\n",
      "9x7 =63\n",
      "9x8 =72\n",
      "9x9 =81\n"
     ]
    }
   ],
   "source": [
    "l = list(range(101))\n",
    "print(l)\n",
    "ll = [i for i in range(10)] #진행형 list\n",
    "print(ll)\n",
    "\n",
    "for i in range(2, 10):\n",
    "    for j in range(1, 10):\n",
    "        print(\"{}x{} ={}\".format(i,j,i*j))"
   ]
  },
  {
   "cell_type": "code",
   "execution_count": 49,
   "metadata": {},
   "outputs": [
    {
     "name": "stdout",
     "output_type": "stream",
     "text": [
      "['2*1=2', '2*2=4', '3*1=3', '3*2=6', '4*1=4', '4*2=8', '5*1=5', '5*2=10', '6*1=6', '6*2=12', '7*1=7', '7*2=14', '8*1=8', '8*2=16', '9*1=9', '9*2=18']\n"
     ]
    }
   ],
   "source": [
    "lll = ['{}*{}={}'.format(i,j,i*j) for i in range(2,10) for j in range(1,3)]\n",
    "print(lll)"
   ]
  },
  {
   "cell_type": "code",
   "execution_count": 52,
   "metadata": {},
   "outputs": [
    {
     "name": "stdout",
     "output_type": "stream",
     "text": [
      "['2X1=2', '2X2=4', '3X1=3', '3X2=6', '4X1=4', '4X2=8', '5X1=5', '5X2=10', '6X1=6', '6X2=12', '7X1=7', '7X2=14', '8X1=8', '8X2=16', '9X1=9', '9X2=18']\n"
     ]
    }
   ],
   "source": [
    "lll = [\"{}X{}={}\".format(i,j,i*j) for i in range(2,10) for j in range(1,3)]\n",
    "print(lll)"
   ]
  },
  {
   "cell_type": "code",
   "execution_count": 63,
   "metadata": {},
   "outputs": [
    {
     "name": "stdout",
     "output_type": "stream",
     "text": [
      "30\n",
      "1 10\n",
      "2 20\n",
      "3 30\n",
      "4 40\n"
     ]
    }
   ],
   "source": [
    "l = [(1,10),(2,20),(3,30),(4,40)]\n",
    "print(l[2][1])\n",
    "for i, j in l:\n",
    "    print(i, j)"
   ]
  },
  {
   "cell_type": "code",
   "execution_count": 66,
   "metadata": {},
   "outputs": [
    {
     "name": "stdout",
     "output_type": "stream",
     "text": [
      "1 100\n",
      "2 200\n",
      "3 300\n",
      "4 400\n",
      "5 500\n",
      "6 600\n",
      "7 700\n",
      "8 800\n",
      "9 900\n"
     ]
    }
   ],
   "source": [
    "for i, j in enumerate(range(100,1000,100),1): #넘버링\n",
    "    print(i,j)"
   ]
  },
  {
   "cell_type": "code",
   "execution_count": 71,
   "metadata": {},
   "outputs": [
    {
     "name": "stdout",
     "output_type": "stream",
     "text": [
      "hello world\n",
      "hello world\n",
      "hello world\n",
      "hello world\n",
      "hello world\n",
      "hello world\n"
     ]
    }
   ],
   "source": [
    "for i in range(10):\n",
    "    if i > 5:\n",
    "        continue\n",
    "    print('hello world')"
   ]
  },
  {
   "cell_type": "code",
   "execution_count": null,
   "metadata": {},
   "outputs": [],
   "source": []
  }
 ],
 "metadata": {
  "kernelspec": {
   "display_name": "Python 3",
   "language": "python",
   "name": "python3"
  },
  "language_info": {
   "codemirror_mode": {
    "name": "ipython",
    "version": 3
   },
   "file_extension": ".py",
   "mimetype": "text/x-python",
   "name": "python",
   "nbconvert_exporter": "python",
   "pygments_lexer": "ipython3",
   "version": "3.8.5"
  }
 },
 "nbformat": 4,
 "nbformat_minor": 4
}
