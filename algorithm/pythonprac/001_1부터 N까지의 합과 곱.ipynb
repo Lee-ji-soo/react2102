{
 "cells": [
  {
   "cell_type": "markdown",
   "metadata": {},
   "source": [
    "# 재귀함수\n",
    "* 내가 나를 호출하는 방법\n",
    "* 반복문 <-> 재귀함수"
   ]
  },
  {
   "cell_type": "markdown",
   "metadata": {},
   "source": [
    "## 1부터 100까지의 합\n",
    "1. x = 0\n",
    "2. x += 1\n",
    "3. x += 2\n",
    "4. ..+= 100"
   ]
  },
  {
   "cell_type": "code",
   "execution_count": 14,
   "metadata": {},
   "outputs": [
    {
     "name": "stdout",
     "output_type": "stream",
     "text": [
      "5050\n",
      "CPU times: user 235 µs, sys: 63 µs, total: 298 µs\n",
      "Wall time: 279 µs\n"
     ]
    }
   ],
   "source": [
    "%%time\n",
    "#시그마 공식 n * n(n+1)/2\n",
    "\n",
    "x = 0\n",
    "for i in range(1,101):\n",
    "    x += i\n",
    "print(x)"
   ]
  },
  {
   "cell_type": "markdown",
   "metadata": {},
   "source": [
    "## 1부터 100까지의 곱\n",
    "1. x = 0\n",
    "2. x *= 1\n",
    "3. x *= 2\n",
    "4. ..*= 100"
   ]
  },
  {
   "cell_type": "code",
   "execution_count": 19,
   "metadata": {},
   "outputs": [
    {
     "name": "stdout",
     "output_type": "stream",
     "text": [
      "93326215443944152681699238856266700490715968264381621468592963895217599993229915608941463976156518286253697920827223758251185210916864000000000000000000000000\n",
      "CPU times: user 111 µs, sys: 15 µs, total: 126 µs\n",
      "Wall time: 118 µs\n"
     ]
    }
   ],
   "source": [
    "%%time\n",
    "\n",
    "#팩토리얼\n",
    "# 5! = 5 * 4 * 3 * 2 * 1 = 120\n",
    "# 4! = 4 * 3 * 2 * 1 \n",
    "\n",
    "x = 1\n",
    "n = 100\n",
    "for i in range(1, n+1):\n",
    "    x *= i\n",
    "print(x)\n",
    "\n",
    "#O(n)"
   ]
  },
  {
   "cell_type": "code",
   "execution_count": 21,
   "metadata": {},
   "outputs": [
    {
     "name": "stdout",
     "output_type": "stream",
     "text": [
      "5050\n",
      "CPU times: user 384 µs, sys: 135 µs, total: 519 µs\n",
      "Wall time: 474 µs\n"
     ]
    }
   ],
   "source": [
    "%%time\n",
    "#시그마 공식 n * n (n+1) //2\n",
    "\n",
    "x=0\n",
    "n=100\n",
    "x = n*(n+1)//2\n",
    "print(x)\n",
    "\n",
    "#O(1)"
   ]
  }
 ],
 "metadata": {
  "kernelspec": {
   "display_name": "Python 3",
   "language": "python",
   "name": "python3"
  },
  "language_info": {
   "codemirror_mode": {
    "name": "ipython",
    "version": 3
   },
   "file_extension": ".py",
   "mimetype": "text/x-python",
   "name": "python",
   "nbconvert_exporter": "python",
   "pygments_lexer": "ipython3",
   "version": "3.8.5"
  }
 },
 "nbformat": 4,
 "nbformat_minor": 4
}
