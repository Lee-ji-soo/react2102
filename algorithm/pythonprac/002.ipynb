{
 "cells": [
  {
   "cell_type": "code",
   "execution_count": 13,
   "metadata": {},
   "outputs": [
    {
     "name": "stdout",
     "output_type": "stream",
     "text": [
      "[1, 2, 3, 4]\n",
      "<class 'list'>\n",
      "2\n",
      "[1, 1000, 3, 4]\n"
     ]
    }
   ],
   "source": [
    "#리스트, 튜플, 딕셔너리, 셋\n",
    "l = [1, 2, 3, 4]\n",
    "print(l)\n",
    "print(type(l))\n",
    "#print(dir(l))\n",
    "#변경이 가능한 자료형\n",
    "#순서가 있는 자료형\n",
    "print(l[1])\n",
    "l[1]= 1000\n",
    "print(l)"
   ]
  },
  {
   "cell_type": "code",
   "execution_count": 25,
   "metadata": {},
   "outputs": [
    {
     "name": "stdout",
     "output_type": "stream",
     "text": [
      "['__add__', '__class__', '__contains__', '__delattr__', '__delitem__', '__dir__', '__doc__', '__eq__', '__format__', '__ge__', '__getattribute__', '__getitem__', '__gt__', '__hash__', '__iadd__', '__imul__', '__init__', '__init_subclass__', '__iter__', '__le__', '__len__', '__lt__', '__mul__', '__ne__', '__new__', '__reduce__', '__reduce_ex__', '__repr__', '__reversed__', '__rmul__', '__setattr__', '__setitem__', '__sizeof__', '__str__', '__subclasshook__', 'append', 'clear', 'copy', 'count', 'extend', 'index', 'insert', 'pop', 'remove', 'reverse', 'sort']\n",
      "[1, 2, 3, 4, 300]\n",
      "1\n",
      "[1, 2, 3, 4, 300, 100, 200, 300]\n",
      "5\n",
      "[1, 2, 3, 1000, 4, 300, 100, 200, 300]\n",
      "[1, 2, 3, 1000, 4, 300, 200, 300]\n",
      "[1, 2, 3, 1000, 4, 200, 300]\n",
      "[300, 200, 4, 1000, 3, 2, 1]\n",
      "[1, 2, 3, 4, 200, 300, 1000]\n"
     ]
    }
   ],
   "source": [
    "l = [1, 2, 3, 4]\n",
    "print(dir(l))\n",
    "l.append(300)\n",
    "print(l)\n",
    "#l.clear()\n",
    "#l.copy()\n",
    "print(l.count(300))\n",
    "l.extend([100,200,300])\n",
    "print(l)\n",
    "print(l.index(100))\n",
    "l.insert(3,1000)\n",
    "print(l)\n",
    "l.pop(-3)\n",
    "print(l)\n",
    "l.remove(300)\n",
    "print(l)\n",
    "l.reverse()\n",
    "print(l)\n",
    "l.sort()\n",
    "print(l)"
   ]
  },
  {
   "cell_type": "code",
   "execution_count": 29,
   "metadata": {},
   "outputs": [
    {
     "name": "stdout",
     "output_type": "stream",
     "text": [
      "([10, 20], 2, 3)\n",
      "<class 'tuple'>\n",
      "([1000, 20], 2, 3)\n"
     ]
    }
   ],
   "source": [
    "l = [10, 20]\n",
    "t = (l,2,3)\n",
    "print(t)\n",
    "print(type(t))\n",
    "#print(dir(t))\n",
    "\n",
    "#순서가 있음\n",
    "#변경이 불가능\n",
    "\n",
    "l[0]=1000\n",
    "print(t)"
   ]
  },
  {
   "cell_type": "code",
   "execution_count": 45,
   "metadata": {},
   "outputs": [
    {
     "name": "stdout",
     "output_type": "stream",
     "text": [
      "{33, 11, 22}\n",
      "<class 'set'>\n",
      "['__and__', '__class__', '__contains__', '__delattr__', '__dir__', '__doc__', '__eq__', '__format__', '__ge__', '__getattribute__', '__gt__', '__hash__', '__iand__', '__init__', '__init_subclass__', '__ior__', '__isub__', '__iter__', '__ixor__', '__le__', '__len__', '__lt__', '__ne__', '__new__', '__or__', '__rand__', '__reduce__', '__reduce_ex__', '__repr__', '__ror__', '__rsub__', '__rxor__', '__setattr__', '__sizeof__', '__str__', '__sub__', '__subclasshook__', '__xor__', 'add', 'clear', 'copy', 'difference', 'difference_update', 'discard', 'intersection', 'intersection_update', 'isdisjoint', 'issubset', 'issuperset', 'pop', 'remove', 'symmetric_difference', 'symmetric_difference_update', 'union', 'update']\n",
      "{33, 11, 4, 22}\n",
      "{33, 11, 4, 22}\n",
      "{33, 11, 4, 22}\n",
      "{33, 11, 4, 22}\n",
      "{33, 11, 4, 22}\n",
      "{'2', 'g', '1', 'd', 's', 'e'}\n",
      "{2000, 33, 4, 22, 3000, 1000, 11}\n"
     ]
    }
   ],
   "source": [
    "s= {11, 22, 33}\n",
    "ss= {1000,2000,3000}\n",
    "print(s)\n",
    "print(type(s))\n",
    "print(dir(s))\n",
    "\n",
    "#순서 없음\n",
    "#값의 중복 허락 안함\n",
    "\n",
    "s.add(4)\n",
    "print(s)\n",
    "s.copy()\n",
    "print(s)\n",
    "s.difference()\n",
    "print(s)\n",
    "s.discard(1)\n",
    "print(s)\n",
    "s.intersection()\n",
    "print(s)\n",
    "print(set('12e1eeeesdgsgg'))\n",
    "print(s.union(ss))"
   ]
  },
  {
   "cell_type": "code",
   "execution_count": 54,
   "metadata": {},
   "outputs": [
    {
     "name": "stdout",
     "output_type": "stream",
     "text": [
      "10\n",
      "<class 'dict'>\n",
      "['__class__', '__contains__', '__delattr__', '__delitem__', '__dir__', '__doc__', '__eq__', '__format__', '__ge__', '__getattribute__', '__getitem__', '__gt__', '__hash__', '__init__', '__init_subclass__', '__iter__', '__le__', '__len__', '__lt__', '__ne__', '__new__', '__reduce__', '__reduce_ex__', '__repr__', '__reversed__', '__setattr__', '__setitem__', '__sizeof__', '__str__', '__subclasshook__', 'clear', 'copy', 'fromkeys', 'get', 'items', 'keys', 'pop', 'popitem', 'setdefault', 'update', 'values']\n",
      "dict_values([10, 20])\n",
      "dict_keys(['one', 'two'])\n",
      "dict_items([('one', 10), ('two', 20)])\n",
      "one 10\n"
     ]
    }
   ],
   "source": [
    "# d = {key:value}\n",
    "d={\"one\":10, \"two\":20}\n",
    "\n",
    "#순서가없음\n",
    "#키의 중복을 허락하지 않음\n",
    "\n",
    "print(d[\"one\"])\n",
    "print(type(d))\n",
    "print(dir(d))\n",
    "\n",
    "print(d.values())\n",
    "print(d.keys())\n",
    "print(d.items())\n",
    "l = list(d.items())\n",
    "print(l[0][0],l[0][1])"
   ]
  },
  {
   "cell_type": "code",
   "execution_count": 61,
   "metadata": {},
   "outputs": [
    {
     "name": "stdout",
     "output_type": "stream",
     "text": [
      "{'banana': 4000, 'orange': 1000}\n",
      "{'banana': 4000, 'orange': 20000}\n"
     ]
    }
   ],
   "source": [
    "jeju ={\"banana\":4000, 'orange':1000}\n",
    "seoul = jeju.copy()\n",
    "jeju[\"orange\"]=20000\n",
    "print(seoul)\n",
    "print(jeju)"
   ]
  }
 ],
 "metadata": {
  "kernelspec": {
   "display_name": "Python 3",
   "language": "python",
   "name": "python3"
  },
  "language_info": {
   "codemirror_mode": {
    "name": "ipython",
    "version": 3
   },
   "file_extension": ".py",
   "mimetype": "text/x-python",
   "name": "python",
   "nbconvert_exporter": "python",
   "pygments_lexer": "ipython3",
   "version": "3.8.5"
  }
 },
 "nbformat": 4,
 "nbformat_minor": 4
}
