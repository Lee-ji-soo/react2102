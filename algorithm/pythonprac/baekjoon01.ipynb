{
 "cells": [
  {
   "cell_type": "code",
   "execution_count": 4,
   "metadata": {},
   "outputs": [
    {
     "name": "stdout",
     "output_type": "stream",
     "text": [
      "5\n",
      "5\n",
      "4\n",
      "3\n",
      "2\n",
      "1\n"
     ]
    }
   ],
   "source": [
    "#3 for\n",
    "\n",
    "n = int(input())\n",
    "\n",
    "for i in range(n, 0, -1):\n",
    "    print(i)"
   ]
  },
  {
   "cell_type": "code",
   "execution_count": 12,
   "metadata": {
    "scrolled": true
   },
   "outputs": [
    {
     "name": "stdout",
     "output_type": "stream",
     "text": [
      "5\n",
      "*\n",
      "**\n",
      "***\n",
      "****\n",
      "*****\n"
     ]
    }
   ],
   "source": [
    "#별짓기 1\n",
    "\n",
    "n = int(input())\n",
    "\n",
    "for i in range(1, n+1):\n",
    "    for j in range(0, i):\n",
    "        print(\"*\", end=\"\")\n",
    "    print()"
   ]
  },
  {
   "cell_type": "code",
   "execution_count": 72,
   "metadata": {},
   "outputs": [
    {
     "name": "stdout",
     "output_type": "stream",
     "text": [
      "5\n",
      "     *\n",
      "    **\n",
      "   ***\n",
      "  ****\n"
     ]
    }
   ],
   "source": [
    "#별짓기 2\n",
    "\n",
    "n = int(input())\n",
    "\n",
    "for i in range(1, n):\n",
    "    print(\" \"*(n-i), \"*\" * (i), end=\"\")\n",
    "    print()\n"
   ]
  },
  {
   "cell_type": "code",
   "execution_count": 90,
   "metadata": {},
   "outputs": [
    {
     "name": "stdout",
     "output_type": "stream",
     "text": [
      "5\n",
      "1 5 2 6 7\n",
      "1 2 "
     ]
    }
   ],
   "source": [
    "# for X보다 작은 수 \n",
    "\n",
    "b = int(input())\n",
    "\n",
    "arr = list(map(int, input().split(\" \")));\n",
    "result = []\n",
    "min = arr[0]\n",
    "for i in arr:\n",
    "    if i < b:\n",
    "        result.append(i)\n",
    "\n",
    "for i in result:\n",
    "    print(i, end=\" \")"
   ]
  },
  {
   "cell_type": "code",
   "execution_count": 91,
   "metadata": {
    "scrolled": true
   },
   "outputs": [
    {
     "name": "stdout",
     "output_type": "stream",
     "text": [
      "2 4 \n",
      "6\n",
      "0 0\n"
     ]
    }
   ],
   "source": [
    "#while \n",
    "\n",
    "while True:\n",
    "    a,b = map(int, input().split())\n",
    "    if a == 0 or a >= 10 :\n",
    "        break\n",
    "    print(a+b)"
   ]
  },
  {
   "cell_type": "code",
   "execution_count": 102,
   "metadata": {},
   "outputs": [
    {
     "name": "stdout",
     "output_type": "stream",
     "text": [
      "0\n",
      "1\n"
     ]
    }
   ],
   "source": [
    "#더하기 사이클\n",
    "\n",
    "n = int(input())\n",
    "check = n\n",
    "a = 0\n",
    "b = 0\n",
    "add = 0;\n",
    "count = 0\n",
    "\n",
    "while True:\n",
    "    a = n //10 or 0\n",
    "    b = n % 10\n",
    "    add = a + b \n",
    "    c = add % 10\n",
    "    n =  b*10 + c \n",
    "    count += 1\n",
    "    if n == check:\n",
    "        break;\n",
    "print(count)\n"
   ]
  },
  {
   "cell_type": "code",
   "execution_count": null,
   "metadata": {},
   "outputs": [],
   "source": []
  }
 ],
 "metadata": {
  "kernelspec": {
   "display_name": "Python 3",
   "language": "python",
   "name": "python3"
  },
  "language_info": {
   "codemirror_mode": {
    "name": "ipython",
    "version": 3
   },
   "file_extension": ".py",
   "mimetype": "text/x-python",
   "name": "python",
   "nbconvert_exporter": "python",
   "pygments_lexer": "ipython3",
   "version": "3.8.5"
  }
 },
 "nbformat": 4,
 "nbformat_minor": 4
}
