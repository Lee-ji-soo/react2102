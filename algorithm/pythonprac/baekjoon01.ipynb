{
 "cells": [
  {
   "cell_type": "code",
   "execution_count": 4,
   "metadata": {},
   "outputs": [
    {
     "name": "stdout",
     "output_type": "stream",
     "text": [
      "5\n",
      "5\n",
      "4\n",
      "3\n",
      "2\n",
      "1\n"
     ]
    }
   ],
   "source": [
    "#3 for\n",
    "\n",
    "n = int(input())\n",
    "\n",
    "for i in range(n, 0, -1):\n",
    "    print(i)"
   ]
  },
  {
   "cell_type": "code",
   "execution_count": 12,
   "metadata": {
    "scrolled": true
   },
   "outputs": [
    {
     "name": "stdout",
     "output_type": "stream",
     "text": [
      "5\n",
      "*\n",
      "**\n",
      "***\n",
      "****\n",
      "*****\n"
     ]
    }
   ],
   "source": [
    "#별짓기 1\n",
    "\n",
    "n = int(input())\n",
    "\n",
    "for i in range(1, n+1):\n",
    "    for j in range(0, i):\n",
    "        print(\"*\", end=\"\")\n",
    "    print()"
   ]
  },
  {
   "cell_type": "code",
   "execution_count": 72,
   "metadata": {},
   "outputs": [
    {
     "name": "stdout",
     "output_type": "stream",
     "text": [
      "5\n",
      "     *\n",
      "    **\n",
      "   ***\n",
      "  ****\n"
     ]
    }
   ],
   "source": [
    "#별짓기 2\n",
    "\n",
    "n = int(input())\n",
    "\n",
    "for i in range(1, n):\n",
    "    print(\" \"*(n-i), \"*\" * (i), end=\"\")\n",
    "    print()\n"
   ]
  },
  {
   "cell_type": "code",
   "execution_count": 90,
   "metadata": {},
   "outputs": [
    {
     "name": "stdout",
     "output_type": "stream",
     "text": [
      "5\n",
      "1 5 2 6 7\n",
      "1 2 "
     ]
    }
   ],
   "source": [
    "# for X보다 작은 수 \n",
    "\n",
    "b = int(input())\n",
    "\n",
    "arr = list(map(int, input().split(\" \")));\n",
    "result = []\n",
    "min = arr[0]\n",
    "for i in arr:\n",
    "    if i < b:\n",
    "        result.append(i)\n",
    "\n",
    "for i in result:\n",
    "    print(i, end=\" \")"
   ]
  },
  {
   "cell_type": "code",
   "execution_count": 91,
   "metadata": {
    "scrolled": true
   },
   "outputs": [
    {
     "name": "stdout",
     "output_type": "stream",
     "text": [
      "2 4 \n",
      "6\n",
      "0 0\n"
     ]
    }
   ],
   "source": [
    "#while \n",
    "\n",
    "while True:\n",
    "    a,b = map(int, input().split())\n",
    "    if a == 0 or a >= 10 :\n",
    "        break\n",
    "    print(a+b)"
   ]
  },
  {
   "cell_type": "code",
   "execution_count": 102,
   "metadata": {},
   "outputs": [
    {
     "name": "stdout",
     "output_type": "stream",
     "text": [
      "0\n",
      "1\n"
     ]
    }
   ],
   "source": [
    "#더하기 사이클\n",
    "\n",
    "n = int(input())\n",
    "check = n\n",
    "a = 0\n",
    "b = 0\n",
    "add = 0;\n",
    "count = 0\n",
    "\n",
    "while True:\n",
    "    a = n //10 or 0\n",
    "    b = n % 10\n",
    "    add = a + b \n",
    "    c = add % 10\n",
    "    n =  b*10 + c \n",
    "    count += 1\n",
    "    if n == check:\n",
    "        break;\n",
    "print(count)\n"
   ]
  },
  {
   "cell_type": "code",
   "execution_count": 25,
   "metadata": {},
   "outputs": [
    {
     "name": "stdout",
     "output_type": "stream",
     "text": [
      "20 10 35 30 7\n",
      "7 35\n"
     ]
    }
   ],
   "source": [
    "#while 최소, 최대\n",
    "\n",
    "n = 5\n",
    "arr =list(map(int,input().split()))\n",
    "\n",
    "def findMin(arr):\n",
    "    min = arr[0]\n",
    "    for i in range(len(arr)):\n",
    "        if arr[i] < min:\n",
    "            min = arr[i]\n",
    "    return min\n",
    "\n",
    "def findMax(arr):\n",
    "    max = arr[0]\n",
    "    for i in range(len(arr)):\n",
    "        if arr[i] > max:\n",
    "            max = arr[i]\n",
    "    return max\n",
    "print(findMin(arr), findMax(arr))"
   ]
  },
  {
   "cell_type": "code",
   "execution_count": 27,
   "metadata": {
    "scrolled": true
   },
   "outputs": [
    {
     "name": "stdout",
     "output_type": "stream",
     "text": [
      "3\n",
      "29\n",
      "38\n",
      "12\n",
      "57\n",
      "74\n",
      "40\n",
      "85\n",
      "61\n",
      "85\n",
      "8\n"
     ]
    }
   ],
   "source": [
    "#배열 최댓값\n",
    "arr = []\n",
    "for i in range(9):\n",
    "    arr.append(int(input()))\n",
    "\n",
    "print(max(arr))\n",
    "print(arr.index(max(arr))+1)"
   ]
  },
  {
   "cell_type": "code",
   "execution_count": 45,
   "metadata": {},
   "outputs": [
    {
     "name": "stdout",
     "output_type": "stream",
     "text": [
      "2*1=2\n",
      "\n",
      "3*1=3\n",
      "\n",
      "4*1=4\n",
      "\n",
      "2*2=4\n",
      "\n",
      "3*2=6\n",
      "\n",
      "4*2=8\n",
      "\n",
      "2*3=6\n",
      "\n",
      "3*3=9\n",
      "\n",
      "4*3=12\n",
      "\n",
      "2*4=8\n",
      "\n",
      "3*4=12\n",
      "\n",
      "4*4=16\n",
      "\n",
      "2*5=10\n",
      "\n",
      "3*5=15\n",
      "\n",
      "4*5=20\n",
      "\n",
      "2*6=12\n",
      "\n",
      "3*6=18\n",
      "\n",
      "4*6=24\n",
      "\n",
      "2*7=14\n",
      "\n",
      "3*7=21\n",
      "\n",
      "4*7=28\n",
      "\n",
      "2*8=16\n",
      "\n",
      "3*8=24\n",
      "\n",
      "4*8=32\n",
      "\n",
      "2*9=18\n",
      "\n",
      "3*9=27\n",
      "\n",
      "4*9=36\n",
      "\n",
      "/\n",
      "5*1=5\n",
      "\n",
      "6*1=6\n",
      "\n",
      "7*1=7\n",
      "\n",
      "5*2=10\n",
      "\n",
      "6*2=12\n",
      "\n",
      "7*2=14\n",
      "\n",
      "5*3=15\n",
      "\n",
      "6*3=18\n",
      "\n",
      "7*3=21\n",
      "\n",
      "5*4=20\n",
      "\n",
      "6*4=24\n",
      "\n",
      "7*4=28\n",
      "\n",
      "5*5=25\n",
      "\n",
      "6*5=30\n",
      "\n",
      "7*5=35\n",
      "\n",
      "5*6=30\n",
      "\n",
      "6*6=36\n",
      "\n",
      "7*6=42\n",
      "\n",
      "5*7=35\n",
      "\n",
      "6*7=42\n",
      "\n",
      "7*7=49\n",
      "\n",
      "5*8=40\n",
      "\n",
      "6*8=48\n",
      "\n",
      "7*8=56\n",
      "\n",
      "5*9=45\n",
      "\n",
      "6*9=54\n",
      "\n",
      "7*9=63\n",
      "\n",
      "/\n",
      "8*1=8\n",
      "\n",
      "9*1=9\n",
      "\n",
      "10*1=10\n",
      "\n",
      "8*2=16\n",
      "\n",
      "9*2=18\n",
      "\n",
      "10*2=20\n",
      "\n",
      "8*3=24\n",
      "\n",
      "9*3=27\n",
      "\n",
      "10*3=30\n",
      "\n",
      "8*4=32\n",
      "\n",
      "9*4=36\n",
      "\n",
      "10*4=40\n",
      "\n",
      "8*5=40\n",
      "\n",
      "9*5=45\n",
      "\n",
      "10*5=50\n",
      "\n",
      "8*6=48\n",
      "\n",
      "9*6=54\n",
      "\n",
      "10*6=60\n",
      "\n",
      "8*7=56\n",
      "\n",
      "9*7=63\n",
      "\n",
      "10*7=70\n",
      "\n",
      "8*8=64\n",
      "\n",
      "9*8=72\n",
      "\n",
      "10*8=80\n",
      "\n",
      "8*9=72\n",
      "\n",
      "9*9=81\n",
      "\n",
      "10*9=90\n",
      "\n",
      "/\n"
     ]
    }
   ],
   "source": [
    "a = 2;\n",
    "\n",
    "for x in range(3):\n",
    "    for i in range(1, 10):\n",
    "        for j in range(3):\n",
    "            k = a + j\n",
    "            print(\"{}*{}={}\".format(k, i, k*i))\n",
    "            print()\n",
    "    print(\"/\")\n",
    "    a += 3"
   ]
  },
  {
   "cell_type": "code",
   "execution_count": 11,
   "metadata": {},
   "outputs": [
    {
     "name": "stdout",
     "output_type": "stream",
     "text": [
      "150\n",
      "266\n",
      "427\n",
      "['1', '7', '0', '3', '7', '3', '0', '0']\n",
      "3\n",
      "1\n",
      "0\n",
      "2\n",
      "0\n",
      "0\n",
      "0\n",
      "2\n",
      "0\n",
      "0\n"
     ]
    }
   ],
   "source": [
    "## 배열 숫자의 개수\n",
    "arr = []\n",
    "\n",
    "a = int(input())\n",
    "b = int(input())\n",
    "c = int(input())\n",
    "\n",
    "arr = list(str(a*b*c))\n",
    "print(arr)\n",
    "\n",
    "for i in range(10):\n",
    "    print(arr.count(str(i)))"
   ]
  }
 ],
 "metadata": {
  "kernelspec": {
   "display_name": "Python 3",
   "language": "python",
   "name": "python3"
  },
  "language_info": {
   "codemirror_mode": {
    "name": "ipython",
    "version": 3
   },
   "file_extension": ".py",
   "mimetype": "text/x-python",
   "name": "python",
   "nbconvert_exporter": "python",
   "pygments_lexer": "ipython3",
   "version": "3.8.5"
  }
 },
 "nbformat": 4,
 "nbformat_minor": 4
}
