{
 "cells": [
  {
   "cell_type": "code",
   "execution_count": 4,
   "metadata": {},
   "outputs": [
    {
     "name": "stdout",
     "output_type": "stream",
     "text": [
      "5\n",
      "5\n",
      "4\n",
      "3\n",
      "2\n",
      "1\n"
     ]
    }
   ],
   "source": [
    "#3 for\n",
    "\n",
    "n = int(input())\n",
    "\n",
    "for i in range(n, 0, -1):\n",
    "    print(i)"
   ]
  },
  {
   "cell_type": "code",
   "execution_count": 12,
   "metadata": {
    "scrolled": true
   },
   "outputs": [
    {
     "name": "stdout",
     "output_type": "stream",
     "text": [
      "5\n",
      "*\n",
      "**\n",
      "***\n",
      "****\n",
      "*****\n"
     ]
    }
   ],
   "source": [
    "#별짓기 1\n",
    "\n",
    "n = int(input())\n",
    "\n",
    "for i in range(1, n+1):\n",
    "    for j in range(0, i):\n",
    "        print(\"*\", end=\"\")\n",
    "    print()"
   ]
  },
  {
   "cell_type": "code",
   "execution_count": 51,
   "metadata": {},
   "outputs": [
    {
     "name": "stdout",
     "output_type": "stream",
     "text": [
      "5\n",
      "n 5\n",
      "j 1\n",
      "xj 2\n",
      "xj 3\n",
      "xj 4\n",
      "xm 0\n",
      "*m 1\n",
      "*m 2\n",
      "*m 3\n",
      "*\n",
      "n 5\n",
      "j 1\n",
      "xj 2\n",
      "xj 3\n",
      "xm 0\n",
      "*m 1\n",
      "*m 2\n",
      "*\n",
      "n 5\n",
      "j 1\n",
      "xj 2\n",
      "xm 0\n",
      "*m 1\n",
      "*\n",
      "n 5\n",
      "j 1\n",
      "xm 0\n",
      "*\n"
     ]
    }
   ],
   "source": [
    "#별짓기 2\n",
    "\n",
    "n = int(input())\n",
    "\n",
    "for i in range(n, 1, -1):\n",
    "    for j in range(1, i):\n",
    "        print(\"x\", end=\"\")\n",
    "    for m in range(i):\n",
    "        print(\"*\", end=\"\")\n",
    "    print()\n"
   ]
  }
 ],
 "metadata": {
  "kernelspec": {
   "display_name": "Python 3",
   "language": "python",
   "name": "python3"
  },
  "language_info": {
   "codemirror_mode": {
    "name": "ipython",
    "version": 3
   },
   "file_extension": ".py",
   "mimetype": "text/x-python",
   "name": "python",
   "nbconvert_exporter": "python",
   "pygments_lexer": "ipython3",
   "version": "3.8.5"
  }
 },
 "nbformat": 4,
 "nbformat_minor": 4
}
