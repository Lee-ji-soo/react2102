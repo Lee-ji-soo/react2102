{
 "cells": [
  {
   "cell_type": "code",
   "execution_count": 19,
   "metadata": {},
   "outputs": [
    {
     "name": "stdout",
     "output_type": "stream",
     "text": [
      "3\n"
     ]
    }
   ],
   "source": [
    "#선택정렬\n",
    "list = [5, 10, 66, 1, 2, 77, 53, 32, 11, 15]\n",
    "sorted = []\n",
    "\n",
    "def findMin(list):\n",
    "    min = list[0]\n",
    "    count = 0\n",
    "    for i in list:\n",
    "        if i < min:\n",
    "            min = i\n",
    "            index = count\n",
    "        count += 1\n",
    "    return index\n",
    "print(findMin(list))"
   ]
  },
  {
   "cell_type": "code",
   "execution_count": 32,
   "metadata": {},
   "outputs": [
    {
     "name": "stdout",
     "output_type": "stream",
     "text": [
      "7\n"
     ]
    }
   ],
   "source": [
    "list = [5, 10, 66, 2, 77, 53, 32, 1, 11, 15]\n",
    "def findMin_idx(list):\n",
    "    min = list[0]\n",
    "    for i in range(len(list)):\n",
    "        if list[i] < min:\n",
    "            min = list[i]\n",
    "            idx = i\n",
    "    return idx\n",
    "print(findMin_idx(list))"
   ]
  },
  {
   "cell_type": "code",
   "execution_count": 77,
   "metadata": {},
   "outputs": [
    {
     "name": "stdout",
     "output_type": "stream",
     "text": [
      "[1, 2, 5, 10, 11, 15, 32, 53, 66, 77]\n"
     ]
    }
   ],
   "source": [
    "#삽입정렬\n",
    "\n",
    "list = [5, 10, 66, 2, 77, 53, 32, 1, 11, 15]\n",
    "sortedArr = []\n",
    "\n",
    "def getIdx(arr, num):\n",
    "    for i in range(len(arr)):\n",
    "        if num < arr[i]:\n",
    "            return i\n",
    "    return len(arr)\n",
    "\n",
    "while list:\n",
    "    popped = list.pop(0)\n",
    "    idx = getIdx(sortedArr, popped)\n",
    "    sortedArr.insert(idx, popped)\n",
    "print(sortedArr)"
   ]
  },
  {
   "cell_type": "code",
   "execution_count": null,
   "metadata": {},
   "outputs": [],
   "source": []
  }
 ],
 "metadata": {
  "kernelspec": {
   "display_name": "Python 3",
   "language": "python",
   "name": "python3"
  },
  "language_info": {
   "codemirror_mode": {
    "name": "ipython",
    "version": 3
   },
   "file_extension": ".py",
   "mimetype": "text/x-python",
   "name": "python",
   "nbconvert_exporter": "python",
   "pygments_lexer": "ipython3",
   "version": "3.8.5"
  }
 },
 "nbformat": 4,
 "nbformat_minor": 4
}
