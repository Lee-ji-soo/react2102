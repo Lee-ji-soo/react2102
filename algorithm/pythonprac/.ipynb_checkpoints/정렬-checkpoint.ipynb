{
 "cells": [
  {
   "cell_type": "code",
   "execution_count": 19,
   "metadata": {},
   "outputs": [
    {
     "name": "stdout",
     "output_type": "stream",
     "text": [
      "3\n"
     ]
    }
   ],
   "source": [
    "#선택정렬\n",
    "list = [5, 10, 66, 1, 2, 77, 53, 32, 11, 15]\n",
    "sorted = []\n",
    "\n",
    "def findMin(list):\n",
    "    min = list[0]\n",
    "    count = 0\n",
    "    for i in list:\n",
    "        if i < min:\n",
    "            min = i\n",
    "            index = count\n",
    "        count += 1\n",
    "    return index\n",
    "print(findMin(list))"
   ]
  },
  {
   "cell_type": "code",
   "execution_count": 32,
   "metadata": {},
   "outputs": [
    {
     "name": "stdout",
     "output_type": "stream",
     "text": [
      "7\n"
     ]
    }
   ],
   "source": [
    "list = [5, 10, 66, 2, 77, 53, 32, 1, 11, 15]\n",
    "def findMin_idx(list):\n",
    "    min = list[0]\n",
    "    for i in range(len(list)):\n",
    "        if list[i] < min:\n",
    "            min = list[i]\n",
    "            idx = i\n",
    "    return idx\n",
    "print(findMin_idx(list))"
   ]
  },
  {
   "cell_type": "code",
   "execution_count": 77,
   "metadata": {},
   "outputs": [
    {
     "name": "stdout",
     "output_type": "stream",
     "text": [
      "[1, 2, 5, 10, 11, 15, 32, 53, 66, 77]\n"
     ]
    }
   ],
   "source": [
    "#삽입정렬\n",
    "\n",
    "list = [5, 10, 66, 2, 77, 53, 32, 1, 11, 15]\n",
    "sortedArr = []\n",
    "\n",
    "def getIdx(arr, num):\n",
    "    for i in range(len(arr)):\n",
    "        if num < arr[i]:\n",
    "            return i\n",
    "    return len(arr)\n",
    "\n",
    "while list:\n",
    "    popped = list.pop(0)\n",
    "    idx = getIdx(sortedArr, popped)\n",
    "    sortedArr.insert(idx, popped)\n",
    "print(sortedArr)"
   ]
  },
  {
   "cell_type": "markdown",
   "metadata": {},
   "source": [
    "<pre>\n",
    "#병합정렬(O(nlogn)) 분할 + 정복\n",
    "\n",
    "list = [5, 10, 66, 77, 54, 32, 11, 15]\n",
    "fIdx = len(list)-1\n",
    "midIdx = fIdx//2\n",
    "print(midIdx)\n",
    "list[:midIdx]\n",
    "list[midIdx:]\n",
    "\n",
    "[5, 10, 66, 77, 54, 32, 11, 15]\n",
    "[5, 10, 66, 77] , [54, 32, 11, 15]\n",
    "[5, 10] , [66, 77] , [54, 32], [11,15]\n",
    "[5],[10], [66], [77], [54], [32], [11], [15]\n",
    "[5 ,10] , [66, 77] , [32, 54], [11, 15]\n",
    "[5, 10, 66, 77], [11, 15, 32, 54]\n",
    "[5, 10, 11, 15, 32, 54, 66, 77]\n"
   ]
  },
  {
   "cell_type": "code",
   "execution_count": 52,
   "metadata": {},
   "outputs": [
    {
     "name": "stdout",
     "output_type": "stream",
     "text": [
      "[1, 2, 5, 10, 11, 15, 32, 53, 66, 77]\n",
      "CPU times: user 382 µs, sys: 88 µs, total: 470 µs\n",
      "Wall time: 436 µs\n"
     ]
    }
   ],
   "source": [
    "#병합 정렬\n",
    "\n",
    "%%time\n",
    "list = [5, 10, 66, 2, 77, 53, 32, 1, 11, 15]\n",
    "def rand(list):\n",
    "    listLen= len(list)\n",
    "    result=[]\n",
    "    #분할\n",
    "    if listLen <= 1:\n",
    "        return list\n",
    "    midIdx = listLen // 2\n",
    "    group_one = rand(list[:midIdx])\n",
    "    group_two = rand(list[midIdx:])\n",
    "    #정복\n",
    "    while group_one and group_two:\n",
    "        if group_one[0] < group_two[0]:\n",
    "            result.append(group_one.pop(0))\n",
    "        else:\n",
    "            result.append(group_two.pop(0))\n",
    "    while group_one:\n",
    "        result.append(group_one.pop(0))\n",
    "    while group_two:    \n",
    "        result.append(group_two.pop(0))\n",
    "   #return 'go:{},gt:{}'.format(group_one, group_two)\n",
    "    return result\n",
    "print(rand(list))"
   ]
  },
  {
   "cell_type": "markdown",
   "metadata": {},
   "source": [
    "<pre>\n",
    "#퀵정렬(O(nlogn))이지만 worst에는 0(n**2))\n",
    "#분할, 정복\n",
    "#피봇\n",
    "\n",
    "list = [66, 77, 54, 32, 10, 5, 11, 15]\n",
    "fIdx = len(list)-1\n",
    "midIdx = fIdx//2\n",
    "print(midIdx)\n",
    "list[:midIdx]\n",
    "list[midIdx:]\n",
    "\n",
    "[66, 77, 54, 32, 10, 5, 11, 15]\n",
    "[54, 32, 10, 5, 11, 15] + [66] + [77]\n",
    "[54, 32, 10, 5, 11, 15] + [66] + [77]\n",
    "[32, 10, 5, 11, 15] + [54] + [66] + [77]\n",
    "[10, 5, 11, 15] + [32] + [54] + [66] + [77]\n",
    "[5] + [10] + [11, 15] + [32] + [54] + [66] + [77]\n",
    "[5] + [10] + [11] + [15] + [32] + [54] + [66] + [77]\n",
    "</pre>"
   ]
  },
  {
   "cell_type": "code",
   "execution_count": 79,
   "metadata": {},
   "outputs": [
    {
     "name": "stdout",
     "output_type": "stream",
     "text": [
      "CPU times: user 111 µs, sys: 0 ns, total: 111 µs\n",
      "Wall time: 121 µs\n"
     ]
    },
    {
     "data": {
      "text/plain": [
       "[1, 2, 5, 10, 11, 15, 32, 53, 66, 77]"
      ]
     },
     "execution_count": 79,
     "metadata": {},
     "output_type": "execute_result"
    }
   ],
   "source": [
    "%%time\n",
    "\n",
    "list = [5, 10, 66, 2, 77, 53, 32, 1, 11, 15]\n",
    "def quick(list):\n",
    "    listLen = len(list)\n",
    "    if listLen <= 1:\n",
    "        return list\n",
    "    pivot=list.pop(0)\n",
    "    group_one = []\n",
    "    group_two = []\n",
    "    for i in range(listLen - 1 ):\n",
    "        if list[i] < pivot:\n",
    "            group_one.append(list[i])\n",
    "        else:\n",
    "            group_two.append(list[i])\n",
    "    return quick(group_one) + [pivot] + quick(group_two)\n",
    "quick(list)"
   ]
  }
 ],
 "metadata": {
  "kernelspec": {
   "display_name": "Python 3",
   "language": "python",
   "name": "python3"
  },
  "language_info": {
   "codemirror_mode": {
    "name": "ipython",
    "version": 3
   },
   "file_extension": ".py",
   "mimetype": "text/x-python",
   "name": "python",
   "nbconvert_exporter": "python",
   "pygments_lexer": "ipython3",
   "version": "3.8.5"
  }
 },
 "nbformat": 4,
 "nbformat_minor": 4
}
