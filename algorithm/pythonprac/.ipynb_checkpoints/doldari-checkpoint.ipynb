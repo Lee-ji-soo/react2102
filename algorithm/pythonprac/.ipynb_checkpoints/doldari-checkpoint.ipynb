{
 "cells": [
  {
   "cell_type": "code",
   "execution_count": 83,
   "metadata": {},
   "outputs": [],
   "source": [
    "durab = [1,2,1,4]\n",
    "dog = [{\n",
    "    \"name\":\"Ruby\",\n",
    "    \"age\":\"95\",\n",
    "    \"jump\":\"3\",\n",
    "    \"weight\":\"4\"\n",
    "},{\n",
    "    \"name\":\"Peach\",\n",
    "    \"age\":\"95\",\n",
    "    \"jump\":\"3\",\n",
    "    \"weight\":\"3\"\n",
    "},{\n",
    "    \"name\":\"Cee\",\n",
    "    \"age\":\"72\",\n",
    "    \"jump\":\"2\",\n",
    "    \"weight\":\"1\"\n",
    "},{\n",
    "    \"name\":\"Kobol\",\n",
    "    \"age\":\"59\",\n",
    "    \"jump\":\"1\",\n",
    "    \"weight\":\"1\"    \n",
    "}]"
   ]
  },
  {
   "cell_type": "code",
   "execution_count": 87,
   "metadata": {},
   "outputs": [
    {
     "name": "stdout",
     "output_type": "stream",
     "text": [
      "['Ruby', 'Peach', 'Cee', 'Kobol']\n",
      "['fail', 'Peach', 'Cee', 'Kobol']\n"
     ]
    }
   ],
   "source": [
    "durab = [1,2,1,4]\n",
    "\n",
    "def jump(durab, dog):\n",
    "    answer = [i[\"name\"] for i in dog]\n",
    "    print(answer)\n",
    "    for i in dog:\n",
    "        position = 0\n",
    "        while position < len(durab)-1:\n",
    "            position += int(i[\"jump\"])\n",
    "            durab[position-1] -= int(i[\"weight\"])\n",
    "            if durab[position-1] < 0:\n",
    "                answer[answer.index(i[\"name\"])] = \"fail\"\n",
    "                break\n",
    "        return answer\n",
    "print(jump(durab.copy(), dog.copy()))"
   ]
  },
  {
   "cell_type": "code",
   "execution_count": 34,
   "metadata": {},
   "outputs": [
    {
     "data": {
      "text/plain": [
       "[1000, 2, 3, 4, 5]"
      ]
     },
     "execution_count": 34,
     "metadata": {},
     "output_type": "execute_result"
    }
   ],
   "source": [
    "ll = [1,2,3,4,5]\n",
    "\n",
    "def change(l):\n",
    "    l[0] = 1000\n",
    "change(ll)\n",
    "ll"
   ]
  },
  {
   "cell_type": "code",
   "execution_count": 41,
   "metadata": {},
   "outputs": [
    {
     "data": {
      "text/plain": [
       "'['"
      ]
     },
     "execution_count": 41,
     "metadata": {},
     "output_type": "execute_result"
    }
   ],
   "source": [
    "import json\n",
    "\n",
    "JSONdog = json.dumps(dog, ensure_ascii=False)\n",
    "JSONdog[0]\n"
   ]
  },
  {
   "cell_type": "code",
   "execution_count": 88,
   "metadata": {},
   "outputs": [
    {
     "ename": "TypeError",
     "evalue": "the JSON object must be str, bytes or bytearray, not list",
     "output_type": "error",
     "traceback": [
      "\u001b[0;31m---------------------------------------------------------------------------\u001b[0m",
      "\u001b[0;31mTypeError\u001b[0m                                 Traceback (most recent call last)",
      "\u001b[0;32m<ipython-input-88-d9b980b4b490>\u001b[0m in \u001b[0;36m<module>\u001b[0;34m\u001b[0m\n\u001b[0;32m----> 1\u001b[0;31m \u001b[0mJSONdog\u001b[0m \u001b[0;34m=\u001b[0m \u001b[0mjson\u001b[0m\u001b[0;34m.\u001b[0m\u001b[0mloads\u001b[0m\u001b[0;34m(\u001b[0m\u001b[0mJSONdog\u001b[0m\u001b[0;34m)\u001b[0m\u001b[0;34m\u001b[0m\u001b[0;34m\u001b[0m\u001b[0m\n\u001b[0m\u001b[1;32m      2\u001b[0m \u001b[0mJSONdog\u001b[0m\u001b[0;34m[\u001b[0m\u001b[0;36m0\u001b[0m\u001b[0;34m]\u001b[0m\u001b[0;34m\u001b[0m\u001b[0;34m\u001b[0m\u001b[0m\n",
      "\u001b[0;32m~/opt/anaconda3/lib/python3.8/json/__init__.py\u001b[0m in \u001b[0;36mloads\u001b[0;34m(s, cls, object_hook, parse_float, parse_int, parse_constant, object_pairs_hook, **kw)\u001b[0m\n\u001b[1;32m    339\u001b[0m     \u001b[0;32melse\u001b[0m\u001b[0;34m:\u001b[0m\u001b[0;34m\u001b[0m\u001b[0;34m\u001b[0m\u001b[0m\n\u001b[1;32m    340\u001b[0m         \u001b[0;32mif\u001b[0m \u001b[0;32mnot\u001b[0m \u001b[0misinstance\u001b[0m\u001b[0;34m(\u001b[0m\u001b[0ms\u001b[0m\u001b[0;34m,\u001b[0m \u001b[0;34m(\u001b[0m\u001b[0mbytes\u001b[0m\u001b[0;34m,\u001b[0m \u001b[0mbytearray\u001b[0m\u001b[0;34m)\u001b[0m\u001b[0;34m)\u001b[0m\u001b[0;34m:\u001b[0m\u001b[0;34m\u001b[0m\u001b[0;34m\u001b[0m\u001b[0m\n\u001b[0;32m--> 341\u001b[0;31m             raise TypeError(f'the JSON object must be str, bytes or bytearray, '\n\u001b[0m\u001b[1;32m    342\u001b[0m                             f'not {s.__class__.__name__}')\n\u001b[1;32m    343\u001b[0m         \u001b[0ms\u001b[0m \u001b[0;34m=\u001b[0m \u001b[0ms\u001b[0m\u001b[0;34m.\u001b[0m\u001b[0mdecode\u001b[0m\u001b[0;34m(\u001b[0m\u001b[0mdetect_encoding\u001b[0m\u001b[0;34m(\u001b[0m\u001b[0ms\u001b[0m\u001b[0;34m)\u001b[0m\u001b[0;34m,\u001b[0m \u001b[0;34m'surrogatepass'\u001b[0m\u001b[0;34m)\u001b[0m\u001b[0;34m\u001b[0m\u001b[0;34m\u001b[0m\u001b[0m\n",
      "\u001b[0;31mTypeError\u001b[0m: the JSON object must be str, bytes or bytearray, not list"
     ]
    }
   ],
   "source": [
    "JSONdog = json.loads(JSONdog)\n",
    "JSONdog[0]"
   ]
  },
  {
   "cell_type": "code",
   "execution_count": 104,
   "metadata": {},
   "outputs": [
    {
     "name": "stdout",
     "output_type": "stream",
     "text": [
      "['Ruby', 'Cee']\n"
     ]
    }
   ],
   "source": [
    "durab = [5, 3, 4, 1, 3, 8, 3]\n",
    "\n",
    "def jump(durab, dog):\n",
    "    answer = [i[\"name\"] for i in dog]\n",
    "    for i in dog:\n",
    "        position = 0\n",
    "        while position < len(durab)-1:\n",
    "            position += int(i[\"jump\"])\n",
    "            durab[position-1] -= int(i[\"weight\"])\n",
    "            if durab[position-1] < 0:\n",
    "                del answer[answer.index(i[\"name\"])]\n",
    "                break\n",
    "    return answer\n",
    "print(jump(durab.copy(), dog.copy()))"
   ]
  }
 ],
 "metadata": {
  "kernelspec": {
   "display_name": "Python 3",
   "language": "python",
   "name": "python3"
  },
  "language_info": {
   "codemirror_mode": {
    "name": "ipython",
    "version": 3
   },
   "file_extension": ".py",
   "mimetype": "text/x-python",
   "name": "python",
   "nbconvert_exporter": "python",
   "pygments_lexer": "ipython3",
   "version": "3.8.5"
  }
 },
 "nbformat": 4,
 "nbformat_minor": 4
}
