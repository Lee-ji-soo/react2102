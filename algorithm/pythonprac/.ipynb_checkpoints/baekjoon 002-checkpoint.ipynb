{
 "cells": [
  {
   "cell_type": "code",
   "execution_count": 4,
   "metadata": {
    "scrolled": true
   },
   "outputs": [
    {
     "name": "stdout",
     "output_type": "stream",
     "text": [
      "5 50 70 70 100\n",
      "60.000%\n"
     ]
    }
   ],
   "source": [
    "# 1차원배열 평균은 넘겠지\n",
    "\n",
    "# testN = int(input())\n",
    "for i in range(1):\n",
    "    sArr = list(map(int, input().split()))\n",
    "    avg = sum(sArr[1:])/sArr[0]\n",
    "    cnt = 0\n",
    "    for score in sArr[1:]:\n",
    "        if score > avg:\n",
    "            cnt += 1\n",
    "    rate = cnt/sArr[0] * 100\n",
    "    print(f'{rate:.3f}%')\n"
   ]
  },
  {
   "cell_type": "code",
   "execution_count": 21,
   "metadata": {},
   "outputs": [
    {
     "name": "stdout",
     "output_type": "stream",
     "text": [
      "5 50 50 70 80 100\n",
      "20.000%\n"
     ]
    }
   ],
   "source": [
    "arr = list(map(int, input().split()))\n",
    "nums = arr[0]\n",
    "scores = arr[1:]\n",
    "avg = sum(scores)/nums\n",
    "for s in scores:\n",
    "    count = 0\n",
    "    if s > avg:\n",
    "        count += 1\n",
    "    result = count/nums * 100\n",
    "print(\"{:.3f}%\".format(result))"
   ]
  }
 ],
 "metadata": {
  "kernelspec": {
   "display_name": "Python 3",
   "language": "python",
   "name": "python3"
  },
  "language_info": {
   "codemirror_mode": {
    "name": "ipython",
    "version": 3
   },
   "file_extension": ".py",
   "mimetype": "text/x-python",
   "name": "python",
   "nbconvert_exporter": "python",
   "pygments_lexer": "ipython3",
   "version": "3.8.5"
  }
 },
 "nbformat": 4,
 "nbformat_minor": 4
}
