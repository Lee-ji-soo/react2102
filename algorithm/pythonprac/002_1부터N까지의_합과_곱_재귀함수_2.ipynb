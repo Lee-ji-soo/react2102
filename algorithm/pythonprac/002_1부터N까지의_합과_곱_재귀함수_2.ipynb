{
 "cells": [
  {
   "cell_type": "code",
   "execution_count": 3,
   "metadata": {},
   "outputs": [
    {
     "name": "stdout",
     "output_type": "stream",
     "text": [
      "5050\n"
     ]
    }
   ],
   "source": [
    "def f(n):\n",
    "    if n <= 1:\n",
    "        return 1\n",
    "    else :\n",
    "        return n+f(n-1)\n",
    "n=100\n",
    "print(f(n))"
   ]
  },
  {
   "cell_type": "markdown",
   "metadata": {},
   "source": [
    "1. f(n)    n     return \n",
    "2. f(100) 100 + f(99)\n",
    "3. f(99)  99 +  f(98)\n",
    "4. f(98)  98 +  f(97) => 98 + 97 + 96 + ... 1\n",
    "5. ...\n",
    "6. f(2)   2 + f(1) => 3\n",
    "7. f(1)   1"
   ]
  },
  {
   "cell_type": "code",
   "execution_count": 5,
   "metadata": {},
   "outputs": [
    {
     "name": "stdout",
     "output_type": "stream",
     "text": [
      "120\n"
     ]
    }
   ],
   "source": [
    "def f(n):\n",
    "    if n <= 1:\n",
    "        return 1\n",
    "    else :\n",
    "        return n*f(n-1)\n",
    "n=5\n",
    "print(f(n))"
   ]
  },
  {
   "cell_type": "markdown",
   "metadata": {},
   "source": [
    "1. f(n)    n     return \n",
    "2. f(5)  5 * f(4) => 120\n",
    "3. f(4)  4 * f(3) => 24\n",
    "4. f(3)  3 * f(2) => 6\n",
    "5. f(2)  2 * f(1) => 2\n",
    "6. f(1)  1"
   ]
  }
 ],
 "metadata": {
  "kernelspec": {
   "display_name": "Python 3",
   "language": "python",
   "name": "python3"
  },
  "language_info": {
   "codemirror_mode": {
    "name": "ipython",
    "version": 3
   },
   "file_extension": ".py",
   "mimetype": "text/x-python",
   "name": "python",
   "nbconvert_exporter": "python",
   "pygments_lexer": "ipython3",
   "version": "3.8.5"
  }
 },
 "nbformat": 4,
 "nbformat_minor": 4
}
