{
 "cells": [
  {
   "cell_type": "code",
   "execution_count": 49,
   "metadata": {},
   "outputs": [
    {
     "name": "stdout",
     "output_type": "stream",
     "text": [
      "B\n",
      "B *1 = B\n",
      "B *2 = 16\n",
      "B *3 = 21\n",
      "B *4 = 2C\n",
      "B *5 = 37\n",
      "B *6 = 42\n",
      "B *7 = 4D\n",
      "B *8 = 58\n",
      "B *9 = 63\n",
      "B *A = 6E\n",
      "B *B = 79\n",
      "B *C = 84\n",
      "B *D = 8F\n",
      "B *E = 9A\n",
      "B *F = A5\n",
      "B *10 = B0\n"
     ]
    }
   ],
   "source": [
    "#6081\n",
    "\n",
    "a = int(input(), 16)\n",
    "for i in range(1, 16 + 1):\n",
    "    print('%X'%a,\"*\" '%X'%i, \"=\", '%X'%(a*i))\n"
   ]
  },
  {
   "cell_type": "code",
   "execution_count": 96,
   "metadata": {},
   "outputs": [
    {
     "name": "stdout",
     "output_type": "stream",
     "text": [
      "80\n",
      "1\n",
      "2\n",
      "X\n",
      "4\n",
      "5\n",
      "X\n",
      "7\n",
      "8\n",
      "X\n",
      "10\n",
      "11\n",
      "12\n",
      "X\n",
      "14\n",
      "15\n",
      "X\n",
      "17\n",
      "18\n",
      "X\n",
      "20\n",
      "21\n",
      "22\n",
      "X\n",
      "24\n",
      "25\n",
      "X\n",
      "27\n",
      "28\n",
      "X\n",
      "X\n",
      "X\n",
      "X\n",
      "XX\n",
      "X\n",
      "X\n",
      "XX\n",
      "X\n",
      "X\n",
      "XX\n",
      "40\n",
      "41\n",
      "42\n",
      "X\n",
      "44\n",
      "45\n",
      "X\n",
      "47\n",
      "48\n",
      "X\n",
      "50\n",
      "51\n",
      "52\n",
      "X\n",
      "54\n",
      "55\n",
      "X\n",
      "57\n",
      "58\n",
      "X\n",
      "X\n",
      "X\n",
      "X\n",
      "XX\n",
      "X\n",
      "X\n",
      "XX\n",
      "X\n",
      "X\n",
      "XX\n",
      "70\n",
      "71\n",
      "72\n",
      "X\n",
      "74\n",
      "75\n",
      "X\n",
      "77\n",
      "78\n",
      "X\n",
      "80\n"
     ]
    }
   ],
   "source": [
    "#6082\n",
    "n = input()\n",
    "n = int(n)\n",
    "l = \"\"\n",
    "for i in range(1, n+1):\n",
    "    if i%10 == 3 or i%10 == 6 or i%10 == 9 or i//10 == 3 or i//10 == 6 or i//10 == 9:\n",
    "        if (i//10 == 3 or i//10 == 6 or i//10 == 9)and (i%10 == 3 or i%10 == 6 or i%10 == 9):\n",
    "            print(\"XX\")\n",
    "        else:\n",
    "            print(\"X\")\n",
    "    else :\n",
    "        print(i)"
   ]
  },
  {
   "cell_type": "code",
   "execution_count": 112,
   "metadata": {},
   "outputs": [
    {
     "name": "stdout",
     "output_type": "stream",
     "text": [
      "2 2 2\n",
      "0 0 0\n",
      "0 0 1\n",
      "0 1 0\n",
      "0 1 1\n",
      "1 0 0\n",
      "1 0 1\n",
      "1 1 0\n",
      "1 1 1\n",
      "8\n"
     ]
    }
   ],
   "source": [
    "#6083\n",
    "r,g,b = input().split();\n",
    "r = int(r);\n",
    "g = int(g);\n",
    "b = int(b);\n",
    "sum = 0;\n",
    "for i in range(0, r):\n",
    "    for j in range(g):\n",
    "        for k in range(b):\n",
    "            print(i, j, k)\n",
    "            sum += 1;\n",
    "print(sum)"
   ]
  },
  {
   "cell_type": "code",
   "execution_count": 122,
   "metadata": {},
   "outputs": [
    {
     "name": "stdout",
     "output_type": "stream",
     "text": [
      "1.7\n"
     ]
    }
   ],
   "source": [
    "#6084\n",
    "h = 44100\n",
    "b = 16\n",
    "t = 2 \n",
    "s = 10\n",
    "sum = h*b*t*s\n",
    "\n",
    "print(round(sum/8/1024/1024,1))\n"
   ]
  },
  {
   "cell_type": "code",
   "execution_count": 126,
   "metadata": {},
   "outputs": [
    {
     "name": "stdout",
     "output_type": "stream",
     "text": [
      "2.25\n"
     ]
    }
   ],
   "source": [
    "#6085\n",
    "w = 1024\n",
    "h = 768\n",
    "b = 24\n",
    "sum = w*h*b\n",
    "print(round(sum/8/1024/1024, 2))"
   ]
  },
  {
   "cell_type": "code",
   "execution_count": 132,
   "metadata": {},
   "outputs": [],
   "source": [
    "#6086\n",
    "i = 1\n",
    "c = 0\n",
    "n = 66;\n",
    "while True:\n",
    "    i += c;\n",
    "    c += 1;\n",
    "    if (i >= n):\n",
    "        break\n",
    "        print(i)"
   ]
  },
  {
   "cell_type": "code",
   "execution_count": 151,
   "metadata": {},
   "outputs": [
    {
     "name": "stdout",
     "output_type": "stream",
     "text": [
      "66\n"
     ]
    }
   ],
   "source": [
    "#6086\n",
    "i = 0\n",
    "c = 0\n",
    "n = 57;\n",
    "while True:\n",
    "    if (i >= n):\n",
    "        break\n",
    "    i += c;\n",
    "    c += 1;\n",
    "print(i)"
   ]
  },
  {
   "cell_type": "code",
   "execution_count": 153,
   "metadata": {},
   "outputs": [
    {
     "name": "stdout",
     "output_type": "stream",
     "text": [
      "1\n",
      "2\n",
      "4\n",
      "5\n",
      "7\n",
      "8\n",
      "10\n"
     ]
    }
   ],
   "source": [
    "#6087\n",
    "n = 10\n",
    "for i in range(0, n+1):\n",
    "    if(i%3 == 0):\n",
    "        continue;\n",
    "    print(i)"
   ]
  },
  {
   "cell_type": "code",
   "execution_count": 155,
   "metadata": {},
   "outputs": [
    {
     "name": "stdout",
     "output_type": "stream",
     "text": [
      "13\n"
     ]
    }
   ],
   "source": [
    "#6088\n",
    "a = 1\n",
    "d = 3\n",
    "n = 5\n",
    "\n",
    "result = d*(n-1) +a \n",
    "print(result)\n"
   ]
  },
  {
   "cell_type": "code",
   "execution_count": 158,
   "metadata": {},
   "outputs": [
    {
     "name": "stdout",
     "output_type": "stream",
     "text": [
      "1458\n"
     ]
    }
   ],
   "source": [
    "#6089\n",
    "a = 2\n",
    "r = 3\n",
    "n = 7\n",
    "\n",
    "result = a*(3**(n-1))\n",
    "print(result)"
   ]
  },
  {
   "cell_type": "code",
   "execution_count": 214,
   "metadata": {
    "scrolled": true
   },
   "outputs": [
    {
     "name": "stdout",
     "output_type": "stream",
     "text": [
      "i 1\n",
      "i 2\n",
      "i 3\n",
      "i 4\n",
      "i 5\n",
      "i 6\n",
      "i 7\n",
      "a -85\n"
     ]
    }
   ],
   "source": [
    "#6090\n",
    "\n",
    "a = 1\n",
    "m = -2\n",
    "d = 1\n",
    "n = 8\n",
    "\n",
    "# 1 = 1\n",
    "# -1 = 1* -2 +1\n",
    "# 3 = (1*-2+1)* -2 +1\n",
    "# -5 = ((1*-2+1)* -2 +1)* -2 + 1\n",
    "for i in range(1, n):\n",
    "    a = a * m + d\n",
    "print('a', a)"
   ]
  },
  {
   "cell_type": "code",
   "execution_count": 3,
   "metadata": {},
   "outputs": [
    {
     "name": "stdout",
     "output_type": "stream",
     "text": [
      "3 7 9\n",
      "63\n"
     ]
    }
   ],
   "source": [
    "#6091\n",
    "a,b,c = input().split()\n",
    "a = int(a)\n",
    "b = int(b)\n",
    "c = int(c)\n",
    "d = 1\n",
    "while d%a != 0 or d%b != 0 or d%c != 0:\n",
    "    d += 1\n",
    "    if (d%a == 0 and d%b == 0 and d%c == 0):\n",
    "        break\n",
    "print(d)\n"
   ]
  },
  {
   "cell_type": "code",
   "execution_count": null,
   "metadata": {},
   "outputs": [],
   "source": [
    "#6092\n",
    "a,b,c = input().split()\n",
    "a = int(a)\n",
    "b = int(b)\n",
    "c = int(c)"
   ]
  },
  {
   "cell_type": "code",
   "execution_count": 19,
   "metadata": {
    "scrolled": true
   },
   "outputs": [
    {
     "name": "stdout",
     "output_type": "stream",
     "text": [
      "10\n",
      "1 3 2 2 5 6 7 4 5 9\n",
      "1,2,1,1,2,1,1,0,1,0,0,0,0,0,0,0,0,0,0,0,0,0,0,"
     ]
    }
   ],
   "source": [
    "#6093\n",
    "\n",
    "n = int(input())\n",
    "a = input().split()\n",
    "d = []\n",
    "\n",
    "for i in range(24):\n",
    "    d.append(0)\n",
    "    \n",
    "for i in range(n):\n",
    "    ai = int(a[i])\n",
    "    d[ai] += 1\n",
    "\n",
    "    \n",
    "for i in range(1, 24):\n",
    "    print(d[i], end=\",\")\n",
    "    "
   ]
  },
  {
   "cell_type": "code",
   "execution_count": 63,
   "metadata": {
    "scrolled": true
   },
   "outputs": [
    {
     "name": "stdout",
     "output_type": "stream",
     "text": [
      "2 5 1 9\n",
      "[2, 5, 1, 9]\n",
      "<class 'int'> <class 'int'>\n",
      "<class 'int'> <class 'int'>\n",
      "<class 'int'> <class 'int'>\n",
      "1\n"
     ]
    }
   ],
   "source": [
    "#6094\n",
    "# n = int(input())\n",
    "a = input().split()\n",
    "b = []\n",
    "\n",
    "for i in range(len(a)):\n",
    "    b.append(int(a[i]))\n",
    "print(b)\n",
    "\n",
    "min = b[0];\n",
    "for i in range(1, len(b)):\n",
    "    if b[i] < min:\n",
    "        min = b[i]\n",
    "print(min)\n",
    "\n"
   ]
  },
  {
   "cell_type": "code",
   "execution_count": 67,
   "metadata": {},
   "outputs": [
    {
     "name": "stdout",
     "output_type": "stream",
     "text": [
      "2 6 1 9\n",
      "1\n"
     ]
    }
   ],
   "source": [
    "#6094\n",
    "# n = int(input())\n",
    "a = input().split()\n",
    "b = []\n",
    "\n",
    "for i in range(len(a)):\n",
    "    b.append(int(a[i]))\n",
    "\n",
    "min = b[0];\n",
    "\n",
    "def findMin(i):\n",
    "    if b[i] < min:\n",
    "        return b[i]\n",
    "    return findMin(i+1)\n",
    "        \n",
    "print(findMin(0))\n",
    "\n"
   ]
  },
  {
   "cell_type": "code",
   "execution_count": 82,
   "metadata": {},
   "outputs": [
    {
     "name": "stdout",
     "output_type": "stream",
     "text": [
      "1 1\n",
      "2 2\n",
      "3 3\n",
      "0 0 0 0 0 0 0 0 0 0 0 0 0 0 0 0 0 0 0 0 \n",
      "0 1 0 0 0 0 0 0 0 0 0 0 0 0 0 0 0 0 0 0 \n",
      "0 0 1 0 0 0 0 0 0 0 0 0 0 0 0 0 0 0 0 0 \n",
      "0 0 0 1 0 0 0 0 0 0 0 0 0 0 0 0 0 0 0 0 \n",
      "0 0 0 0 0 0 0 0 0 0 0 0 0 0 0 0 0 0 0 0 \n",
      "0 0 0 0 0 0 0 0 0 0 0 0 0 0 0 0 0 0 0 0 \n",
      "0 0 0 0 0 0 0 0 0 0 0 0 0 0 0 0 0 0 0 0 \n",
      "0 0 0 0 0 0 0 0 0 0 0 0 0 0 0 0 0 0 0 0 \n",
      "0 0 0 0 0 0 0 0 0 0 0 0 0 0 0 0 0 0 0 0 \n",
      "0 0 0 0 0 0 0 0 0 0 0 0 0 0 0 0 0 0 0 0 \n",
      "0 0 0 0 0 0 0 0 0 0 0 0 0 0 0 0 0 0 0 0 \n",
      "0 0 0 0 0 0 0 0 0 0 0 0 0 0 0 0 0 0 0 0 \n",
      "0 0 0 0 0 0 0 0 0 0 0 0 0 0 0 0 0 0 0 0 \n",
      "0 0 0 0 0 0 0 0 0 0 0 0 0 0 0 0 0 0 0 0 \n",
      "0 0 0 0 0 0 0 0 0 0 0 0 0 0 0 0 0 0 0 0 \n",
      "0 0 0 0 0 0 0 0 0 0 0 0 0 0 0 0 0 0 0 0 \n",
      "0 0 0 0 0 0 0 0 0 0 0 0 0 0 0 0 0 0 0 0 \n",
      "0 0 0 0 0 0 0 0 0 0 0 0 0 0 0 0 0 0 0 0 \n",
      "0 0 0 0 0 0 0 0 0 0 0 0 0 0 0 0 0 0 0 0 \n",
      "0 0 0 0 0 0 0 0 0 0 0 0 0 0 0 0 0 0 0 0 \n"
     ]
    }
   ],
   "source": [
    "#6095\n",
    "d=[]\n",
    "n = 3\n",
    "for i in range(20):\n",
    "    d.append([])\n",
    "    for j in range(20):\n",
    "        d[i].append(0)\n",
    "\n",
    "for i in range(n):\n",
    "    x,y = input().split()\n",
    "    x = int(x)\n",
    "    y = int(y)\n",
    "    d[x][y] = 1\n",
    "    \n",
    "for i in range(20):\n",
    "    for j in range(20):\n",
    "        print(d[i][j], end=\" \")\n",
    "    print()"
   ]
  },
  {
   "cell_type": "code",
   "execution_count": 97,
   "metadata": {
    "scrolled": true
   },
   "outputs": [
    {
     "name": "stdout",
     "output_type": "stream",
     "text": [
      "0 0 0 1 0 0 0 0 0 0 0 0 0 0 0 0 0 0 0 0 \n",
      "0 0 0 1 0 0 0 0 0 0 0 0 0 0 0 0 0 0 0 0 \n",
      "1 1 1 1 1 1 1 1 1 1 1 1 1 1 1 1 1 1 1 1 \n",
      "0 0 0 1 0 0 0 0 0 0 0 0 0 0 0 0 0 0 0 0 \n",
      "0 0 0 1 0 0 0 0 0 0 0 0 0 0 0 0 0 0 0 0 \n",
      "0 0 0 1 0 0 0 0 0 0 0 0 0 0 0 0 0 0 0 0 \n",
      "0 0 0 1 0 0 0 0 0 0 0 0 0 0 0 0 0 0 0 0 \n",
      "0 0 0 1 0 0 0 0 0 0 0 0 0 0 0 0 0 0 0 0 \n",
      "0 0 0 1 0 0 0 0 0 0 0 0 0 0 0 0 0 0 0 0 \n",
      "0 0 0 1 0 0 0 0 0 0 0 0 0 0 0 0 0 0 0 0 \n",
      "0 0 0 1 0 0 0 0 0 0 0 0 0 0 0 0 0 0 0 0 \n",
      "0 0 0 1 0 0 0 0 0 0 0 0 0 0 0 0 0 0 0 0 \n",
      "0 0 0 1 0 0 0 0 0 0 0 0 0 0 0 0 0 0 0 0 \n",
      "0 0 0 1 0 0 0 0 0 0 0 0 0 0 0 0 0 0 0 0 \n",
      "0 0 0 1 0 0 0 0 0 0 0 0 0 0 0 0 0 0 0 0 \n",
      "0 0 0 1 0 0 0 0 0 0 0 0 0 0 0 0 0 0 0 0 \n",
      "0 0 0 1 0 0 0 0 0 0 0 0 0 0 0 0 0 0 0 0 \n",
      "0 0 0 1 0 0 0 0 0 0 0 0 0 0 0 0 0 0 0 0 \n",
      "0 0 0 1 0 0 0 0 0 0 0 0 0 0 0 0 0 0 0 0 \n",
      "0 0 0 1 0 0 0 0 0 0 0 0 0 0 0 0 0 0 0 0 \n"
     ]
    }
   ],
   "source": [
    "#6096\n",
    "d=[]\n",
    "\n",
    "for i in range(20):\n",
    "    d.append([])\n",
    "    for j in range(20):\n",
    "        d[i].append(0)\n",
    "\n",
    "for i in range(20):\n",
    "    x = 2\n",
    "    y = 3\n",
    "    if d[x][i] == 0:\n",
    "        d[x][y] = 1\n",
    "        d[x][i] = 1\n",
    "    else:\n",
    "        d[x][y] = 0\n",
    "        d[x][i] = 0\n",
    "    if d[i][y] == 0:\n",
    "        d[i][y] = 1\n",
    "    else:\n",
    "        d[i][y] = 0\n",
    "for i in range(20):\n",
    "    for j in range(20):\n",
    "        print(d[i][j], end=\" \")\n",
    "    print()"
   ]
  },
  {
   "cell_type": "code",
   "execution_count": 114,
   "metadata": {
    "scrolled": true
   },
   "outputs": [
    {
     "name": "stdout",
     "output_type": "stream",
     "text": [
      "2 0 1 1 \n",
      "2 1 2 2\n",
      "3 1 2 2\n",
      "0 0 0 0 0 \n",
      "0 1 0 0 0 \n",
      "0 1 1 1 1 \n",
      "0 0 0 0 0 \n",
      "0 0 0 0 0 \n"
     ]
    }
   ],
   "source": [
    "#6097\n",
    "arr=[]\n",
    "n = 5\n",
    "dn = 3\n",
    "# 0 = 가로, 1 = 세로\n",
    "\n",
    "for i in range(n):\n",
    "    arr.append([])\n",
    "    for j in range(n):\n",
    "        arr[i].append(0)\n",
    "\n",
    "for i in range(dn):\n",
    "    l,d,x,y = input().split();\n",
    "    l = int(l)\n",
    "    d = int(d)\n",
    "    x = int(x)\n",
    "    y = int(y)\n",
    "    for i in range(l):\n",
    "        arr[x][y] = 1\n",
    "        if d == 1:\n",
    "            y += 1\n",
    "        else:\n",
    "            x += 1\n",
    "        \n",
    "for i in range(n):\n",
    "    for j in range(n):\n",
    "        print(arr[i][j], end=\" \")\n",
    "    print()"
   ]
  },
  {
   "cell_type": "code",
   "execution_count": 198,
   "metadata": {
    "scrolled": false
   },
   "outputs": [
    {
     "name": "stdout",
     "output_type": "stream",
     "text": [
      "1 1 1 1 1 1 1 1 1 1 \n",
      "1 9 9 1 0 0 0 0 0 1 \n",
      "1 0 9 1 1 1 0 0 0 1 \n",
      "1 0 9 9 9 9 9 1 0 1 \n",
      "1 0 0 0 0 0 9 1 0 1 \n",
      "1 0 0 0 0 1 9 1 0 1 \n",
      "1 0 0 0 0 1 2 1 0 1 \n",
      "1 0 0 0 0 1 0 0 0 1 \n",
      "1 0 0 0 0 0 0 0 0 1 \n",
      "1 1 1 1 1 1 1 1 1 1 \n"
     ]
    }
   ],
   "source": [
    "#6098\n",
    "d=[[1, 1, 1, 1, 1, 1, 1, 1, 1, 1],\n",
    "[1, 0, 0, 1, 0, 0, 0, 0, 0, 1],\n",
    "[1, 0, 0, 1, 1, 1, 0, 0, 0, 1],\n",
    "[1, 0, 0, 0, 0, 0, 0, 1, 0, 1],\n",
    "[1, 0, 0, 0, 0, 0, 0, 1, 0, 1],\n",
    "[1, 0, 0, 0, 0, 1, 0, 1, 0, 1],\n",
    "[1, 0, 0, 0, 0, 1, 2, 1, 0, 1],\n",
    "[1, 0, 0, 0, 0, 1, 0, 0, 0, 1],\n",
    "[1, 0, 0, 0, 0, 0, 0, 0, 0, 1],\n",
    "[1, 1, 1, 1, 1, 1, 1, 1, 1, 1]]\n",
    "n = 10\n",
    "\n",
    "x = 1\n",
    "y = 1\n",
    "\n",
    "while True:\n",
    "    if d[y][x] == 0:\n",
    "        d[y][x] = 9\n",
    "    elif d[y][x] == 2:\n",
    "        break\n",
    "    \n",
    "    if d[y][x+1] == 1 and d[y+1][x] == 1:\n",
    "        break;\n",
    "    \n",
    "    if d[y][x+1] != 1:\n",
    "        x += 1\n",
    "    elif d[y+1][x] != 1:\n",
    "        y += 1\n",
    "        \n",
    "for i in range(n):\n",
    "    for j in range(n):\n",
    "        print(d[i][j], end=\" \")\n",
    "    print()"
   ]
  }
 ],
 "metadata": {
  "kernelspec": {
   "display_name": "Python 3",
   "language": "python",
   "name": "python3"
  },
  "language_info": {
   "codemirror_mode": {
    "name": "ipython",
    "version": 3
   },
   "file_extension": ".py",
   "mimetype": "text/x-python",
   "name": "python",
   "nbconvert_exporter": "python",
   "pygments_lexer": "ipython3",
   "version": "3.8.5"
  }
 },
 "nbformat": 4,
 "nbformat_minor": 4
}
