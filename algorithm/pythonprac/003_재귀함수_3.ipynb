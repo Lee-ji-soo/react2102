{
 "cells": [
  {
   "cell_type": "markdown",
   "metadata": {},
   "source": [
    "## 문제 접근 방법\n",
    "1. 반복문의 경우 : bottom -> up (작은 문제 -> 큰문제)\n",
    "2. 재귀의 경우 : top -> down (큰문제 -> 작은문제)\n",
    "\n",
    "* 재귀의 경우 종료조건이 꼭 있어야 한다."
   ]
  },
  {
   "cell_type": "code",
   "execution_count": 3,
   "metadata": {},
   "outputs": [
    {
     "name": "stdout",
     "output_type": "stream",
     "text": [
      "55\n"
     ]
    }
   ],
   "source": [
    "x=0\n",
    "for i in range(11):\n",
    "    x += i\n",
    "print(x)"
   ]
  },
  {
   "cell_type": "code",
   "execution_count": 6,
   "metadata": {},
   "outputs": [
    {
     "name": "stdout",
     "output_type": "stream",
     "text": [
      "55\n"
     ]
    }
   ],
   "source": [
    "def f(n):\n",
    "    if n <= 1:\n",
    "        return 1\n",
    "    else:\n",
    "        return n + f(n-1)\n",
    "print(f(10))"
   ]
  },
  {
   "cell_type": "code",
   "execution_count": 64,
   "metadata": {},
   "outputs": [
    {
     "name": "stdout",
     "output_type": "stream",
     "text": [
      "##exit\n"
     ]
    }
   ],
   "source": [
    "while True:\n",
    "    if input(\"##\") == \"exit\":\n",
    "        break\n",
    "    if input(\"##\") == \"hi\":\n",
    "        print(\"heelow oorld\")\n",
    "    else:\n",
    "        continue"
   ]
  },
  {
   "cell_type": "code",
   "execution_count": 50,
   "metadata": {},
   "outputs": [
    {
     "name": "stdout",
     "output_type": "stream",
     "text": [
      "##exit\n"
     ]
    }
   ],
   "source": [
    "def console():\n",
    "    if input(\"##\") == \"exit\":\n",
    "        return None\n",
    "    if input(\"##\") == \"hi\":\n",
    "        print(\"hellow owrd\")\n",
    "    console()\n",
    "console()"
   ]
  },
  {
   "cell_type": "code",
   "execution_count": 49,
   "metadata": {},
   "outputs": [
    {
     "name": "stdout",
     "output_type": "stream",
     "text": [
      "1011\n"
     ]
    }
   ],
   "source": [
    "#2진수 구하기 - 반복문\n",
    "\n",
    "#print(bin(11)[2:])\n",
    "#print(oct(11)[2:])\n",
    "#print(hex(11)[2:])\n",
    "\n",
    "x=11\n",
    "result=\"\"\n",
    "\n",
    "while True:\n",
    "    if x%2 == 1:\n",
    "        result += \"1\"\n",
    "    else:\n",
    "        result += \"0\"\n",
    "    x = x//2 \n",
    "    if x == 0 or x == 1:\n",
    "        result += str(x)\n",
    "        print(result[::-1])\n",
    "        break\n"
   ]
  },
  {
   "cell_type": "markdown",
   "metadata": {},
   "source": [
    "1. 2  11   1\n",
    "2. 2   5   1\n",
    "3. 2   2   0\n",
    "4.     1"
   ]
  },
  {
   "cell_type": "code",
   "execution_count": 53,
   "metadata": {},
   "outputs": [
    {
     "name": "stdout",
     "output_type": "stream",
     "text": [
      "1011\n"
     ]
    }
   ],
   "source": [
    "#2진수 구하기 - 재귀함수\n",
    "\n",
    "x=11\n",
    "\n",
    "def f(x):\n",
    "    if x == 0 or x ==1:\n",
    "        return str(x)\n",
    "    return str(f(x//2)) + str(x%2)\n",
    "\n",
    "print(f(x))"
   ]
  },
  {
   "cell_type": "code",
   "execution_count": 67,
   "metadata": {},
   "outputs": [],
   "source": [
    "# f(11) f(5) + f(1) => 1011\n",
    "# f(5)  f(2) + f(1) => 101\n",
    "# f(2)  f(1) + 0 => 10\n",
    "# f(1) => 1 "
   ]
  },
  {
   "cell_type": "code",
   "execution_count": 110,
   "metadata": {},
   "outputs": [
    {
     "name": "stdout",
     "output_type": "stream",
     "text": [
      "eeloos\n",
      "CPU times: user 226 µs, sys: 49 µs, total: 275 µs\n",
      "Wall time: 269 µs\n"
     ]
    }
   ],
   "source": [
    "%%time\n",
    "result = \"\"\n",
    "def reverseTxt(txt):\n",
    "    if txt == \"\":\n",
    "        return \"\"\n",
    "    else:\n",
    "        return str(reverseTxt(txt[1:])) + str(txt[0])\n",
    "print(reverseTxt('soolee'))"
   ]
  },
  {
   "cell_type": "code",
   "execution_count": 109,
   "metadata": {},
   "outputs": [
    {
     "name": "stdout",
     "output_type": "stream",
     "text": [
      "eeloos\n",
      "CPU times: user 234 µs, sys: 58 µs, total: 292 µs\n",
      "Wall time: 271 µs\n"
     ]
    }
   ],
   "source": [
    "%%time\n",
    "result=\"\"\n",
    "for i in \"soolee\":\n",
    "    result = i + result\n",
    "print(result)"
   ]
  },
  {
   "cell_type": "code",
   "execution_count": 119,
   "metadata": {},
   "outputs": [
    {
     "name": "stdout",
     "output_type": "stream",
     "text": [
      "9\n"
     ]
    }
   ],
   "source": [
    "x=0\n",
    "for i in '135':\n",
    "    x += int(i)\n",
    "print(x)"
   ]
  },
  {
   "cell_type": "code",
   "execution_count": 175,
   "metadata": {},
   "outputs": [
    {
     "name": "stdout",
     "output_type": "stream",
     "text": [
      "8\n"
     ]
    }
   ],
   "source": [
    "def f(n): \n",
    "    if n == \"\":\n",
    "        return 0\n",
    "    else: return f(n[1:]) + int(n[0])\n",
    "print(f('134'))"
   ]
  },
  {
   "cell_type": "code",
   "execution_count": 216,
   "metadata": {},
   "outputs": [
    {
     "name": "stdout",
     "output_type": "stream",
     "text": [
      "<class 'str'>\n",
      "1\n",
      "12fs35 sooolee\n",
      "2fs35 sooolee\n",
      "12\n",
      "1\n",
      "2f\n",
      "1f3 o\n",
      "1f3 o\n",
      "1f3 ooe\n",
      "elos5s2\n",
      "eelooos 53sf21\n",
      "12fs35 sooole\n",
      "ooos 53sf2\n",
      "12FS35 SOOOLEE\n",
      "12fs35 sooolee\n",
      "2\n",
      "s\n",
      "11\n",
      "  \n",
      "name name is lee, im 20yearso sold\n"
     ]
    }
   ],
   "source": [
    "s= \"12fs35 sooolee\"\n",
    "print(type(s))\n",
    "# print(dir(s))\n",
    "print(s[0])\n",
    "print(s[0:])\n",
    "print(s[1:])\n",
    "print(s[:2])\n",
    "print(s[0:1])\n",
    "print(s[1:3])\n",
    "print(s[0:10:2])\n",
    "print(s[:10:2])\n",
    "print(s[::2])\n",
    "print(s[::-2])\n",
    "print(s[::-1])\n",
    "print(s[:-1])\n",
    "print(s[10:0:-1])\n",
    "print(s.upper())\n",
    "print(s.lower())\n",
    "print(s.count('s'))\n",
    "print(s.join('s'))\n",
    "ss = ' 11 '\n",
    "print(ss.strip())\n",
    "a= ss.split(\"1\")\n",
    "print(\"\".join(a))\n",
    "print(('name name is {}, im {}yearso sold').format(\"lee\",20))"
   ]
  },
  {
   "cell_type": "code",
   "execution_count": 223,
   "metadata": {},
   "outputs": [
    {
     "name": "stdout",
     "output_type": "stream",
     "text": [
      "2019/1/24 2019 1 24\n"
     ]
    }
   ],
   "source": [
    "a =2019\n",
    "b = 1\n",
    "c =24\n",
    "\n",
    "print(a,b,c, sep=\"/\", end=\" \")\n",
    "print(a,b,c)"
   ]
  },
  {
   "cell_type": "code",
   "execution_count": 227,
   "metadata": {},
   "outputs": [
    {
     "name": "stdout",
     "output_type": "stream",
     "text": [
      "20\n",
      "1010\n"
     ]
    }
   ],
   "source": [
    "a = 10\n",
    "b = \"10\"\n",
    "print(a + int(b))#형변환\n",
    "print(str(a)+b) #형변환"
   ]
  },
  {
   "cell_type": "code",
   "execution_count": 229,
   "metadata": {},
   "outputs": [
    {
     "name": "stdout",
     "output_type": "stream",
     "text": [
      "<class 'bool'>\n"
     ]
    }
   ],
   "source": [
    "a = True\n",
    "b = False\n",
    "print(type(a))"
   ]
  },
  {
   "cell_type": "code",
   "execution_count": 239,
   "metadata": {},
   "outputs": [
    {
     "name": "stdout",
     "output_type": "stream",
     "text": [
      "True\n",
      "False\n",
      "False\n",
      "True\n",
      "True\n",
      "False\n",
      "True\n"
     ]
    }
   ],
   "source": [
    "print(bool(\" \"))\n",
    "print(bool(\"\"))\n",
    "print(bool(0))\n",
    "print(bool(1))\n",
    "print(bool(-1))\n",
    "print(bool(None))\n",
    "print(bool(2))"
   ]
  },
  {
   "cell_type": "code",
   "execution_count": 242,
   "metadata": {},
   "outputs": [
    {
     "name": "stdout",
     "output_type": "stream",
     "text": [
      "13\n",
      "-7\n",
      "3.3333333333333335\n",
      "3\n",
      "30\n",
      "1000\n",
      "1\n"
     ]
    }
   ],
   "source": [
    "#상술연산\n",
    "a = 3 \n",
    "b = 10\n",
    "print(a+b)\n",
    "print(a-b)\n",
    "print(b/a)\n",
    "print(b//a)\n",
    "print(b*a)\n",
    "print(b**a)\n",
    "print(b%a)"
   ]
  },
  {
   "cell_type": "code",
   "execution_count": 244,
   "metadata": {},
   "outputs": [
    {
     "name": "stdout",
     "output_type": "stream",
     "text": [
      "True\n",
      "True\n",
      "False\n",
      "False\n",
      "False\n",
      "True\n"
     ]
    }
   ],
   "source": [
    "a=10\n",
    "b=3\n",
    "print(a>=b)\n",
    "print(a>b)\n",
    "print(a<b)\n",
    "print(a<=b)\n",
    "print(a==b)\n",
    "print(a!=b)"
   ]
  },
  {
   "cell_type": "code",
   "execution_count": 247,
   "metadata": {},
   "outputs": [
    {
     "name": "stdout",
     "output_type": "stream",
     "text": [
      "False\n",
      "True\n",
      "True\n"
     ]
    }
   ],
   "source": [
    "a= True # 1\n",
    "b= False # 0\n",
    "print(a and b)# *\n",
    "print(a or b) # +\n",
    "print(not b) # 반대"
   ]
  },
  {
   "cell_type": "code",
   "execution_count": 251,
   "metadata": {},
   "outputs": [
    {
     "name": "stdout",
     "output_type": "stream",
     "text": [
      "30\n"
     ]
    }
   ],
   "source": [
    "#할당 연산\n",
    "a = 10\n",
    "a += 20\n",
    "print(a)"
   ]
  },
  {
   "cell_type": "code",
   "execution_count": 262,
   "metadata": {},
   "outputs": [
    {
     "name": "stdout",
     "output_type": "stream",
     "text": [
      "8\n",
      "101000\n",
      "001110\n"
     ]
    }
   ],
   "source": [
    "#bit 연산\n",
    "a = 40\n",
    "b = 14\n",
    "print(a & b)\n",
    "# & | ~\n",
    "print(bin(a)[2:].zfill(6))\n",
    "print(bin(b)[2:].zfill(6))\n",
    "#101000\n",
    "#001110\n",
    "#001000"
   ]
  },
  {
   "cell_type": "code",
   "execution_count": 264,
   "metadata": {},
   "outputs": [
    {
     "name": "stdout",
     "output_type": "stream",
     "text": [
      "8\n"
     ]
    }
   ],
   "source": [
    "def f(x, y):\n",
    "    z= x + y\n",
    "    return z\n",
    "print(f(3, 5))"
   ]
  },
  {
   "cell_type": "code",
   "execution_count": 266,
   "metadata": {},
   "outputs": [
    {
     "name": "stdout",
     "output_type": "stream",
     "text": [
      "4\n",
      "1\n",
      "2\n",
      "3\n"
     ]
    }
   ],
   "source": [
    "def ff():\n",
    "    print('1')\n",
    "    print('2')\n",
    "    print(\"3\")\n",
    "    return None\n",
    "print(4)\n",
    "ff()"
   ]
  },
  {
   "cell_type": "code",
   "execution_count": 268,
   "metadata": {},
   "outputs": [
    {
     "name": "stdout",
     "output_type": "stream",
     "text": [
      "314.0\n"
     ]
    }
   ],
   "source": [
    "def circle(r):\n",
    "    width = r* r *3.14\n",
    "    return width\n",
    "print(circle(10))"
   ]
  },
  {
   "cell_type": "code",
   "execution_count": 271,
   "metadata": {},
   "outputs": [
    {
     "name": "stdout",
     "output_type": "stream",
     "text": [
      "20\n"
     ]
    }
   ],
   "source": [
    "a = 10\n",
    "def aplus(a):\n",
    "    a += 10\n",
    "    return a\n",
    "print(aplus(a))"
   ]
  },
  {
   "cell_type": "code",
   "execution_count": 272,
   "metadata": {},
   "outputs": [
    {
     "name": "stdout",
     "output_type": "stream",
     "text": [
      "20\n"
     ]
    }
   ],
   "source": [
    "a = 10\n",
    "def aplus():\n",
    "    global a\n",
    "    a += 10\n",
    "    return a\n",
    "print(aplus())"
   ]
  }
 ],
 "metadata": {
  "kernelspec": {
   "display_name": "Python 3",
   "language": "python",
   "name": "python3"
  },
  "language_info": {
   "codemirror_mode": {
    "name": "ipython",
    "version": 3
   },
   "file_extension": ".py",
   "mimetype": "text/x-python",
   "name": "python",
   "nbconvert_exporter": "python",
   "pygments_lexer": "ipython3",
   "version": "3.8.5"
  }
 },
 "nbformat": 4,
 "nbformat_minor": 4
}
