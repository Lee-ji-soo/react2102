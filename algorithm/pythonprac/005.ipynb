{
 "cells": [
  {
   "cell_type": "code",
   "execution_count": 5,
   "metadata": {},
   "outputs": [
    {
     "name": "stdout",
     "output_type": "stream",
     "text": [
      "5\n",
      "5\n",
      "<class '__main__.Car'>\n",
      "['__class__', '__delattr__', '__dict__', '__dir__', '__doc__', '__eq__', '__format__', '__ge__', '__getattribute__', '__gt__', '__hash__', '__init__', '__init_subclass__', '__le__', '__lt__', '__module__', '__ne__', '__new__', '__reduce__', '__reduce_ex__', '__repr__', '__setattr__', '__sizeof__', '__str__', '__subclasshook__', '__weakref__', 'maxPeople', 'maxSpeed', 'start', 'stop']\n"
     ]
    }
   ],
   "source": [
    "class Car(object):\n",
    "    maxSpeed = 300\n",
    "    maxPeople = 5\n",
    "    def start(self):\n",
    "        print(\"출발\")\n",
    "    def stop(slef):\n",
    "        print(\"정지\")\n",
    "k9 = Car()\n",
    "k5 = Car()\n",
    "k3 = Car()\n",
    "print(k9.maxPeople)\n",
    "print(k3.maxPeople)\n",
    "print(type(k9))\n",
    "print(dir(k9))"
   ]
  },
  {
   "cell_type": "markdown",
   "metadata": {},
   "source": [
    "# class\n",
    "1. class name 첫 문자가 대문자\n",
    "2. class는 대부분 직접 만지지 않습니다.\n",
    "3. class를 붕어빵 찍는 틀로 생각. instance가 붕어빵 k9\n"
   ]
  },
  {
   "cell_type": "code",
   "execution_count": 15,
   "metadata": {},
   "outputs": [
    {
     "name": "stdout",
     "output_type": "stream",
     "text": [
      "instance made\n",
      "instance made\n",
      "instance made\n",
      "5\n",
      "5\n",
      "<class '__main__.Car'>\n",
      "['__class__', '__delattr__', '__dict__', '__dir__', '__doc__', '__eq__', '__format__', '__ge__', '__getattribute__', '__gt__', '__hash__', '__init__', '__init_subclass__', '__le__', '__lt__', '__module__', '__ne__', '__new__', '__reduce__', '__reduce_ex__', '__repr__', '__setattr__', '__sizeof__', '__str__', '__subclasshook__', '__weakref__', 'maxPeople', 'maxSpeed', 'start', 'stop']\n",
      "hello world\n",
      "5\n"
     ]
    }
   ],
   "source": [
    "class Car(object):\n",
    "    maxSpeed = 300\n",
    "    maxPeople = 5\n",
    "    def start(self):\n",
    "        print(\"출발\")\n",
    "    def stop(slef):\n",
    "        print(\"정지\")\n",
    "    def __str__(self):\n",
    "        return \"hello world\"\n",
    "    def __init__(self):\n",
    "        print(\"instance made\")\n",
    "    \n",
    "class Hybrid(Car):\n",
    "    battery = 1000\n",
    "    betteryKM = 300\n",
    "    \n",
    "k9 = Car()\n",
    "k5 = Car()\n",
    "k3 = Hybrid()\n",
    "print(k9.maxPeople)\n",
    "print(k3.maxPeople)\n",
    "print(type(k9))\n",
    "print(dir(k9))\n",
    "print(k9)\n",
    "print(k3.maxPeople)"
   ]
  },
  {
   "cell_type": "code",
   "execution_count": null,
   "metadata": {},
   "outputs": [],
   "source": []
  }
 ],
 "metadata": {
  "kernelspec": {
   "display_name": "Python 3",
   "language": "python",
   "name": "python3"
  },
  "language_info": {
   "codemirror_mode": {
    "name": "ipython",
    "version": 3
   },
   "file_extension": ".py",
   "mimetype": "text/x-python",
   "name": "python",
   "nbconvert_exporter": "python",
   "pygments_lexer": "ipython3",
   "version": "3.8.5"
  }
 },
 "nbformat": 4,
 "nbformat_minor": 4
}
