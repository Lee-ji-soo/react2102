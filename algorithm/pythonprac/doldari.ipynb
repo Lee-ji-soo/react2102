{
 "cells": [
  {
   "cell_type": "code",
   "execution_count": 54,
   "metadata": {},
   "outputs": [],
   "source": [
    "durab = [1,2,1,4]\n",
    "dog = [{\n",
    "    \"name\":\"Ruby\",\n",
    "    \"age\":\"95\",\n",
    "    \"jump\":\"3\",\n",
    "    \"weight\":\"4\"\n",
    "},{\n",
    "    \"name\":\"Peach\",\n",
    "    \"age\":\"95\",\n",
    "    \"jump\":\"3\",\n",
    "    \"weight\":\"3\"\n",
    "},{\n",
    "    \"name\":\"Cee\",\n",
    "    \"age\":\"72\",\n",
    "    \"jump\":\"2\",\n",
    "    \"weight\":\"1\"\n",
    "},{\n",
    "    \"name\":\"Kobol\",\n",
    "    \"age\":\"59\",\n",
    "    \"jump\":\"1\",\n",
    "    \"weight\":\"1\"    \n",
    "}]"
   ]
  },
  {
   "cell_type": "code",
   "execution_count": 60,
   "metadata": {},
   "outputs": [
    {
     "name": "stdout",
     "output_type": "stream",
     "text": [
      "['Cee']\n"
     ]
    }
   ],
   "source": [
    "answer = []\n",
    "def jump(durab, dog):\n",
    "    answer = [i[\"name\"] for i in dog]\n",
    "    for i in dog:\n",
    "        position = 0\n",
    "        while position < len(durab)-1:\n",
    "            position += int(i[\"jump\"])\n",
    "            durab[position-1] -= int(i[\"weight\"])\n",
    "            if durab[position-1] < 0:\n",
    "                del answer[answer.index(i[\"name\"])]\n",
    "                break\n",
    "    return answer\n",
    "print(jump(durab.copy(),dog.copy()))"
   ]
  },
  {
   "cell_type": "code",
   "execution_count": 34,
   "metadata": {},
   "outputs": [
    {
     "data": {
      "text/plain": [
       "[1000, 2, 3, 4, 5]"
      ]
     },
     "execution_count": 34,
     "metadata": {},
     "output_type": "execute_result"
    }
   ],
   "source": [
    "ll = [1,2,3,4,5]\n",
    "\n",
    "def change(l):\n",
    "    l[0] = 1000\n",
    "change(ll)\n",
    "ll"
   ]
  },
  {
   "cell_type": "code",
   "execution_count": 41,
   "metadata": {},
   "outputs": [
    {
     "data": {
      "text/plain": [
       "'['"
      ]
     },
     "execution_count": 41,
     "metadata": {},
     "output_type": "execute_result"
    }
   ],
   "source": [
    "import json\n",
    "\n",
    "JSONdog = json.dumps(dog, ensure_ascii=False)\n",
    "JSONdog[0]\n"
   ]
  },
  {
   "cell_type": "code",
   "execution_count": 42,
   "metadata": {},
   "outputs": [
    {
     "data": {
      "text/plain": [
       "{'name': 'Ruby', 'age': '95', 'jump': '3', 'weight': '4'}"
      ]
     },
     "execution_count": 42,
     "metadata": {},
     "output_type": "execute_result"
    }
   ],
   "source": [
    "JSONdog = json.loads(JSONdog)\n",
    "JSONdog[0]"
   ]
  }
 ],
 "metadata": {
  "kernelspec": {
   "display_name": "Python 3",
   "language": "python",
   "name": "python3"
  },
  "language_info": {
   "codemirror_mode": {
    "name": "ipython",
    "version": 3
   },
   "file_extension": ".py",
   "mimetype": "text/x-python",
   "name": "python",
   "nbconvert_exporter": "python",
   "pygments_lexer": "ipython3",
   "version": "3.8.5"
  }
 },
 "nbformat": 4,
 "nbformat_minor": 4
}
