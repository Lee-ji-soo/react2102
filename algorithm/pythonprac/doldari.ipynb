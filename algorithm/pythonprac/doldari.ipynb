{
 "cells": [
  {
   "cell_type": "code",
   "execution_count": 10,
   "metadata": {},
   "outputs": [],
   "source": [
    "durab = [1,2,1,4]\n",
    "dog = [{\n",
    "    \"name\":\"Ruby\",\n",
    "    \"age\":\"95\",\n",
    "    \"jump\":\"3\",\n",
    "    \"weight\":\"4\"\n",
    "},{\n",
    "    \"name\":\"Peach\",\n",
    "    \"age\":\"95\",\n",
    "    \"jump\":\"3\",\n",
    "    \"weight\":\"3\"\n",
    "},{\n",
    "    \"name\":\"Cee\",\n",
    "    \"age\":\"72\",\n",
    "    \"jump\":\"2\",\n",
    "    \"weight\":\"1\"\n",
    "},{\n",
    "    \"name\":\"Kobol\",\n",
    "    \"age\":\"59\",\n",
    "    \"jump\":\"1\",\n",
    "    \"weight\":\"1\"    \n",
    "}]"
   ]
  },
  {
   "cell_type": "code",
   "execution_count": null,
   "metadata": {},
   "outputs": [],
   "source": [
    "durab = [1,2,1,4]\n",
    "\n",
    "def jump(durab, dog):\n",
    "    answer = [i[\"name\"] for i in dog]\n",
    "    print(answer)\n",
    "    for i in dog:\n",
    "        position = 0\n",
    "        while position < len(durab)-1:\n",
    "            position += int(i[\"jump\"])\n",
    "            durab[position-1] -= int(i[\"weight\"])\n",
    "            if durab[position-1] < 0:\n",
    "                answer[answer.index(i[\"name\"])] = \"fail\"\n",
    "                break\n",
    "        return answer\n",
    "print(jump(durab.copy(), dog.copy()))"
   ]
  },
  {
   "cell_type": "code",
   "execution_count": null,
   "metadata": {},
   "outputs": [],
   "source": [
    "ll = [1,2,3,4,5]\n",
    "\n",
    "def change(l):\n",
    "    l[0] = 1000\n",
    "change(ll)\n",
    "ll"
   ]
  },
  {
   "cell_type": "code",
   "execution_count": null,
   "metadata": {},
   "outputs": [],
   "source": [
    "import json\n",
    "\n",
    "JSONdog = json.dumps(dog, ensure_ascii=False)\n",
    "JSONdog[0]\n"
   ]
  },
  {
   "cell_type": "code",
   "execution_count": null,
   "metadata": {},
   "outputs": [],
   "source": [
    "JSONdog = json.loads(JSONdog)\n",
    "JSONdog[0]"
   ]
  },
  {
   "cell_type": "code",
   "execution_count": 13,
   "metadata": {},
   "outputs": [
    {
     "name": "stdout",
     "output_type": "stream",
     "text": [
      "['Peach', 'Cee', 'Kobol']\n",
      "CPU times: user 343 µs, sys: 108 µs, total: 451 µs\n",
      "Wall time: 420 µs\n"
     ]
    }
   ],
   "source": [
    "%%time\n",
    "answer = [] \n",
    "\n",
    "def jump(durab, dog):\n",
    "    answer = [i[\"name\"] for i in dog]\n",
    "    position = 0\n",
    "    for i in dog:\n",
    "        while position < len(durab)-1:\n",
    "            position += int(i[\"jump\"])\n",
    "            durab[position-1] -= int(i[\"weight\"])\n",
    "            if durab[position-1] < 0:\n",
    "                del answer[answer.index(i[\"name\"])]\n",
    "                break\n",
    "    return answer\n",
    "print(jump(durab, dog))"
   ]
  }
 ],
 "metadata": {
  "kernelspec": {
   "display_name": "Python 3",
   "language": "python",
   "name": "python3"
  }
 },
 "nbformat": 4,
 "nbformat_minor": 4
}
