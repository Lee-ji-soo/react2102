{
 "cells": [
  {
   "cell_type": "code",
   "execution_count": 1,
   "metadata": {
    "scrolled": true
   },
   "outputs": [
    {
     "name": "stdout",
     "output_type": "stream",
     "text": [
      "10.0 3.0\n",
      "3.333\n"
     ]
    }
   ],
   "source": [
    "#6043 나누기, 반올림\n",
    "a,b = input().split()\n",
    "c= float(a)/float(b)\n",
    "print(format(c,\".3f\"))"
   ]
  },
  {
   "cell_type": "code",
   "execution_count": 2,
   "metadata": {},
   "outputs": [
    {
     "name": "stdout",
     "output_type": "stream",
     "text": [
      "<bound method Kernel.raw_input of <ipykernel.ipkernel.IPythonKernel object at 0x7fcf813bc100>>\n",
      "19 3\n",
      "22\n",
      "16\n",
      "57\n",
      "6\n",
      "1\n",
      "6.33\n"
     ]
    }
   ],
   "source": [
    "#6044\n",
    "print(input)\n",
    "a,b = input().split()\n",
    "type(a)\n",
    "a1= int(a)\n",
    "b1= int(b)\n",
    "add= a1+b1\n",
    "minus= a1-b1\n",
    "multi= a1*b1\n",
    "share= a1//b1\n",
    "remain= a1%b1\n",
    "devide= a1/b1\n",
    "\n",
    "print(add)\n",
    "print(minus)\n",
    "print(multi)\n",
    "print(share)\n",
    "print(remain)\n",
    "print(format(devide,\".2f\"))\n"
   ]
  },
  {
   "cell_type": "code",
   "execution_count": 3,
   "metadata": {},
   "outputs": [
    {
     "name": "stdout",
     "output_type": "stream",
     "text": [
      "10 45 23\n",
      "78 26.00\n"
     ]
    }
   ],
   "source": [
    "#6045\n",
    "a,b,c = input().split()\n",
    "a= int(a)\n",
    "b= int(b)\n",
    "c= int(c)\n",
    "add= a+b+c\n",
    "average = add / 3\n",
    "print(add, format(average,\".2f\"))\n"
   ]
  },
  {
   "cell_type": "code",
   "execution_count": 5,
   "metadata": {
    "scrolled": true
   },
   "outputs": [
    {
     "name": "stdout",
     "output_type": "stream",
     "text": [
      "1024\n",
      "2048\n"
     ]
    }
   ],
   "source": [
    "#6046\n",
    "a = input()\n",
    "a = int(a)\n",
    "print(a << 1)"
   ]
  },
  {
   "cell_type": "code",
   "execution_count": 17,
   "metadata": {},
   "outputs": [
    {
     "name": "stdout",
     "output_type": "stream",
     "text": [
      "1 3\n",
      "8\n"
     ]
    }
   ],
   "source": [
    "#6047\n",
    "a,b = input().split()\n",
    "a = int(a)\n",
    "b = int(b)\n",
    "if 0<= a <=10 and 0<= b <=10:\n",
    "    print(a<<b)"
   ]
  },
  {
   "cell_type": "code",
   "execution_count": 20,
   "metadata": {},
   "outputs": [
    {
     "name": "stdout",
     "output_type": "stream",
     "text": [
      "9 1\n",
      "False\n"
     ]
    }
   ],
   "source": [
    "#6048\n",
    "a,b = input().split()\n",
    "a = int(a)\n",
    "b = int(b)\n",
    "if a < b:\n",
    "    print(a<b)\n",
    "else:\n",
    "    print(a<b)"
   ]
  },
  {
   "cell_type": "code",
   "execution_count": 21,
   "metadata": {},
   "outputs": [
    {
     "name": "stdout",
     "output_type": "stream",
     "text": [
      "1 0\n",
      "False\n"
     ]
    }
   ],
   "source": [
    "#6049\n",
    "a,b = input().split()\n",
    "a = int(a)\n",
    "b = int(b)\n",
    "if a == b:\n",
    "    print(True)\n",
    "else:\n",
    "    print(False)"
   ]
  },
  {
   "cell_type": "code",
   "execution_count": 23,
   "metadata": {},
   "outputs": [
    {
     "name": "stdout",
     "output_type": "stream",
     "text": [
      "0 -1\n",
      "False\n"
     ]
    }
   ],
   "source": [
    "#6050\n",
    "a,b = input().split()\n",
    "a = int(a)\n",
    "b = int(b)\n",
    "if b >= a:\n",
    "    print(True)\n",
    "else:\n",
    "    print(False)"
   ]
  },
  {
   "cell_type": "code",
   "execution_count": null,
   "metadata": {},
   "outputs": [],
   "source": []
  }
 ],
 "metadata": {
  "kernelspec": {
   "display_name": "Python 3",
   "language": "python",
   "name": "python3"
  },
  "language_info": {
   "codemirror_mode": {
    "name": "ipython",
    "version": 3
   },
   "file_extension": ".py",
   "mimetype": "text/x-python",
   "name": "python",
   "nbconvert_exporter": "python",
   "pygments_lexer": "ipython3",
   "version": "3.8.5"
  }
 },
 "nbformat": 4,
 "nbformat_minor": 4
}
