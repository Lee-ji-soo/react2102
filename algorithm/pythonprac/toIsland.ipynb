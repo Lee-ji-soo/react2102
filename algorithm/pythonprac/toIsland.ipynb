{
 "cells": [
  {
   "cell_type": "code",
   "execution_count": 3,
   "metadata": {},
   "outputs": [],
   "source": [
    "waiters = 14000605\n",
    "\n",
    "# 9    25 25 \n",
    "# 9:10 15 40\n",
    "# 9:20 15 55\n",
    "# 9:30 15 70\n",
    "# 9:40 15 85\n",
    "# 9:50 15 100\n",
    "    \n",
    "# 100/hr -> 1200/ day"
   ]
  },
  {
   "cell_type": "code",
   "execution_count": 12,
   "metadata": {},
   "outputs": [],
   "source": [
    "waitDays = waiters//1200"
   ]
  },
  {
   "cell_type": "code",
   "execution_count": 15,
   "metadata": {},
   "outputs": [
    {
     "name": "stdout",
     "output_type": "stream",
     "text": [
      "1024\n",
      "512\n",
      "256\n",
      "128\n",
      "64\n",
      "32\n",
      "16\n",
      "8\n",
      "4\n",
      "2\n"
     ]
    },
    {
     "data": {
      "text/plain": [
       "2046"
      ]
     },
     "execution_count": 15,
     "metadata": {},
     "output_type": "execute_result"
    }
   ],
   "source": [
    "daysPerYear=0\n",
    "for i in range(10, 0, -1):\n",
    "    print(2**i)\n",
    "    daysPerYear+= 2 ** i \n",
    "daysPerYear"
   ]
  },
  {
   "cell_type": "code",
   "execution_count": 21,
   "metadata": {},
   "outputs": [
    {
     "data": {
      "text/plain": [
       "1437"
      ]
     },
     "execution_count": 21,
     "metadata": {},
     "output_type": "execute_result"
    }
   ],
   "source": [
    "waitYear = waitDays//daysPerYear\n",
    "daysRemain = waitDays%daysPerYear\n",
    "waitYear\n",
    "daysRemain"
   ]
  },
  {
   "cell_type": "code",
   "execution_count": 20,
   "metadata": {},
   "outputs": [
    {
     "data": {
      "text/plain": [
       "1437"
      ]
     },
     "execution_count": 20,
     "metadata": {},
     "output_type": "execute_result"
    }
   ],
   "source": [
    "waitDays%daysPerYear"
   ]
  },
  {
   "cell_type": "code",
   "execution_count": 29,
   "metadata": {},
   "outputs": [
    {
     "name": "stdout",
     "output_type": "stream",
     "text": [
      "2\n"
     ]
    },
    {
     "data": {
      "text/plain": [
       "413"
      ]
     },
     "execution_count": 29,
     "metadata": {},
     "output_type": "execute_result"
    }
   ],
   "source": [
    "daysPerMonth = 0\n",
    "month = 0 \n",
    "for i in range(10, 0, -1):\n",
    "    차감일 = daysPerMonth\n",
    "    daysPerMonth += 2**i\n",
    "    month += 1\n",
    "    if daysPerMonth > daysRemain:\n",
    "        break\n",
    "print(month)\n",
    "daysRemain-차감일"
   ]
  },
  {
   "cell_type": "code",
   "execution_count": 34,
   "metadata": {},
   "outputs": [
    {
     "data": {
      "text/plain": [
       "11"
      ]
     },
     "execution_count": 34,
     "metadata": {},
     "output_type": "execute_result"
    }
   ],
   "source": [
    "finalWaiters = waiters % 1200\n",
    "hour = finalWaiters // 100 +9\n",
    "hour"
   ]
  },
  {
   "cell_type": "code",
   "execution_count": 37,
   "metadata": {},
   "outputs": [
    {
     "data": {
      "text/plain": [
       "0"
      ]
     },
     "execution_count": 37,
     "metadata": {},
     "output_type": "execute_result"
    }
   ],
   "source": [
    "departMin = [25, 40, 55, 70, 85, 100]\n",
    "몇분에탈지계산 = finalWaiters % 100 + 1\n",
    "for i in departMin:\n",
    "    if i > 몇분에탈지계산:\n",
    "        당일출발_분 = departMin.index(i)*10\n",
    "        break\n",
    "당일출발_분      "
   ]
  },
  {
   "cell_type": "code",
   "execution_count": 40,
   "metadata": {},
   "outputs": [
    {
     "data": {
      "text/plain": [
       "datetime.datetime(2021, 4, 29, 22, 54, 12, 961221)"
      ]
     },
     "execution_count": 40,
     "metadata": {},
     "output_type": "execute_result"
    }
   ],
   "source": [
    "import datetime\n",
    "오늘시간 = datetime.datetime.today()\n",
    "오늘시간"
   ]
  },
  {
   "cell_type": "code",
   "execution_count": 42,
   "metadata": {},
   "outputs": [
    {
     "data": {
      "text/plain": [
       "54"
      ]
     },
     "execution_count": 42,
     "metadata": {},
     "output_type": "execute_result"
    }
   ],
   "source": [
    "오늘시간.hour\n",
    "오늘시간.minute"
   ]
  },
  {
   "cell_type": "code",
   "execution_count": 45,
   "metadata": {},
   "outputs": [
    {
     "data": {
      "text/plain": [
       "'01:01'"
      ]
     },
     "execution_count": 45,
     "metadata": {},
     "output_type": "execute_result"
    }
   ],
   "source": [
    "# 01:01\n",
    "시간 = 1\n",
    "분 =1 \n",
    "f\"{시간:0>2}:{분:0>2}\""
   ]
  },
  {
   "cell_type": "code",
   "execution_count": 88,
   "metadata": {},
   "outputs": [
    {
     "name": "stdout",
     "output_type": "stream",
     "text": [
      "남은일수 1437\n",
      "차감일 0\n",
      "차감일 1024\n",
      "5년 2월 413일 11시  0분에 출발\n"
     ]
    }
   ],
   "source": [
    "import datetime\n",
    "\n",
    "# 9    25 25 \n",
    "# 9:10 15 40\n",
    "# 9:20 15 55\n",
    "# 9:30 15 70\n",
    "# 9:40 15 85\n",
    "# 9:50 15 100\n",
    "    \n",
    "# 100/hr -> 1200/ day\n",
    "\n",
    "오늘시간 = datetime.datetime.today()\n",
    "대기인원 = 14000605\n",
    "\n",
    "# 1hour : 100people\n",
    "# 12hour : 1200people\n",
    "# [1024, 512, 356, 128, 64, 32, 16, 8, 4, 2]\n",
    "def solution(대기인원):\n",
    "    일년일수 = 0 \n",
    "    for i in range(10, 0, -1):\n",
    "        일년일수 += 2**i\n",
    "    년 = (대기인원 // 1200) // 일년일수\n",
    "    남은일수 = (대기인원 // 1200) % 일년일수\n",
    "    print(\"남은일수\", 남은일수)\n",
    "    월별일수누적값 = 0\n",
    "    월 = 0\n",
    "    for i in range(10, 0, -1):\n",
    "        차감일 = 월별일수누적값\n",
    "        print(\"차감일\", 차감일)\n",
    "        월별일수누적값 += 2**i\n",
    "        월 += 1\n",
    "        if 월별일수누적값 > 남은일수:\n",
    "            break\n",
    "\n",
    "    일 = 남은일수 - 차감일\n",
    "    최종남은인원 = 대기인원 % 1200\n",
    "    시 = 최종남은인원 // 100 + 9 \n",
    "    \n",
    "    출발분 = [25, 40, 55, 70, 85, 100]\n",
    "    해당시간에남은인원 = 최종남은인원 % 100 + 1  \n",
    "    for i in 출발분:\n",
    "        if i > 해당시간에남은인원:\n",
    "            분 = 출발분.index(i) * 10\n",
    "            break\n",
    "    if 최종남은인원 % 100 == 99:\n",
    "        시 += 1\n",
    "        분 = 0\n",
    "    if 오늘시간.minute + 분 > 60:\n",
    "        분 = ( 오늘시간.minute + 분) - 60\n",
    "        시 += 1\n",
    "    return f\"{년}년 {월}월 {일}일 {시}시  {분}분에 출발\"\n",
    "\n",
    "print(solution(대기인원))"
   ]
  },
  {
   "cell_type": "code",
   "execution_count": 172,
   "metadata": {},
   "outputs": [
    {
     "name": "stdout",
     "output_type": "stream",
     "text": [
      "36\n",
      "peoplePerDay 1200\n",
      "Year 5 Month 2 Days 413 Hour 11 Min 0\n"
     ]
    }
   ],
   "source": [
    "import datetime\n",
    "\n",
    "today = datetime.datetime.today()\n",
    "todayMin = today.minute\n",
    "print(todayMin)\n",
    "\n",
    "people=14000605\n",
    "peoplePerDay=0\n",
    "daysPerYear=0\n",
    "wholeDays=0\n",
    "addDays=0\n",
    "Year=0\n",
    "Month=0\n",
    "Days=0\n",
    "Hour=0\n",
    "Min=0\n",
    "\n",
    "for i in range(0, 12 + 1):\n",
    "    peoplePerDay = i * 100\n",
    "\n",
    "#1024,512,256,128,64,32,16,8,4,2\n",
    "\n",
    "for i in range(10,\n",
    "               0,-1):\n",
    "    daysPerYear += 2**i\n",
    "    \n",
    "wholeDays = people // peoplePerDay\n",
    "Year = wholeDays // daysPerYear\n",
    "elseDays =  wholeDays % daysPerYear\n",
    "\n",
    "for i in range(10, 0, -1):\n",
    "    substractDays = addDays\n",
    "    addDays += 2**i\n",
    "    Month += 1\n",
    "    if elseDays < addDays:\n",
    "        Days = elseDays - substractDays\n",
    "        break\n",
    "\n",
    "elsePeople = people % 1200\n",
    "Hour = elsePeople // 100 + 9 \n",
    "peoplePerMin = [25, 40, 55, 70, 85, 100]\n",
    "elsePeopleThatTime = elsePeople % 100 + 1 \n",
    "\n",
    "for i in peoplePerMin:\n",
    "    Min = peoplePerMin.index(i) *10\n",
    "    if elsePeopleThatTime < i:\n",
    "        break\n",
    "    if todayMin + Min > 60:\n",
    "        Min = (todayMin + Min)- 60\n",
    "        Hour + 1\n",
    "        print(\"min over\")\n",
    "print(\"Year\",Year, \"Month\", Month, \"Days\", Days, \"Hour\", Hour, \"Min\", Min)"
   ]
  }
 ],
 "metadata": {
  "kernelspec": {
   "display_name": "Python 3",
   "language": "python",
   "name": "python3"
  },
  "language_info": {
   "codemirror_mode": {
    "name": "ipython",
    "version": 3
   },
   "file_extension": ".py",
   "mimetype": "text/x-python",
   "name": "python",
   "nbconvert_exporter": "python",
   "pygments_lexer": "ipython3",
   "version": "3.8.5"
  }
 },
 "nbformat": 4,
 "nbformat_minor": 4
}
