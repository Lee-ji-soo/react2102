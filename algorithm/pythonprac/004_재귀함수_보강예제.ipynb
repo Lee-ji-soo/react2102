{
 "cells": [
  {
   "cell_type": "code",
   "execution_count": 3,
   "metadata": {},
   "outputs": [
    {
     "name": "stdout",
     "output_type": "stream",
     "text": [
      "10\n",
      "9\n",
      "8\n",
      "7\n",
      "6\n",
      "5\n",
      "4\n",
      "3\n",
      "2\n",
      "1\n",
      "end\n"
     ]
    }
   ],
   "source": [
    "# def helloworld():\n",
    "#     helloworld()\n",
    "# helloworld() #무한반복\n",
    "\n",
    "def count(num):\n",
    "    if num <= 0: #종료 조건\n",
    "        print(\"end\")\n",
    "    else:\n",
    "        print(num)\n",
    "        return count(num-1)\n",
    "count(10)"
   ]
  },
  {
   "cell_type": "code",
   "execution_count": 5,
   "metadata": {},
   "outputs": [
    {
     "name": "stdout",
     "output_type": "stream",
     "text": [
      "0\n",
      "1\n",
      "1\n",
      "2\n",
      "3\n",
      "5\n",
      "8\n",
      "13\n",
      "21\n",
      "34\n",
      "55\n"
     ]
    }
   ],
   "source": [
    "#피보나치\n",
    "#0 1 1 2 3 5 8 13 21\n",
    "#0    a=0 , b=1  1\n",
    "#1st  a=1,  b=1  1\n",
    "#2nd  a=1,  b=2  2\n",
    "#3rd  a=2,  b=3  3\n",
    "#4th  a=3,  b=5  5\n",
    "#5th  a=5,  a=8  8\n",
    "\n",
    "a = 0\n",
    "b = 1\n",
    "print(a)\n",
    "for i in range(10):\n",
    "    print(b)\n",
    "    a, b = b, a+b"
   ]
  },
  {
   "cell_type": "code",
   "execution_count": 16,
   "metadata": {},
   "outputs": [
    {
     "data": {
      "text/plain": [
       "5"
      ]
     },
     "execution_count": 16,
     "metadata": {},
     "output_type": "execute_result"
    }
   ],
   "source": [
    "#f(n) = f(n-1) + f(n-2)\n",
    "def fibonacci(num):\n",
    "    if num == 0 or num ==1 :\n",
    "        return 1\n",
    "    return fibonacci(num-1)+ fibonacci(num-2)\n",
    "fibonacci(4)\n",
    "\n",
    "#1,1,2,3,5,8\n",
    "\n",
    "#f(4) f(3) +              f(2)\n",
    "#     f(2) +       f(0) + f(1) + f(0)\n",
    "#     f(1) + f(0) +  1  +  1   + 1\n",
    "#      1   +  1   +  1  +  1   + 1 \n",
    "#     5\n"
   ]
  },
  {
   "cell_type": "markdown",
   "metadata": {},
   "source": [
    "1. f(4) = f(3)+f(2)\n",
    "2. f(4) = (f(2)+f(1))+(f(1)+f(0))\n",
    "3. f(4) = (f(1)+f(0)+f(1))+(f(1)+(f(0))\n",
    "4. f(4) = 1+1+1+1+1 = 5"
   ]
  },
  {
   "cell_type": "code",
   "execution_count": 18,
   "metadata": {},
   "outputs": [
    {
     "name": "stdout",
     "output_type": "stream",
     "text": [
      "1000\n"
     ]
    }
   ],
   "source": [
    "s = 0\n",
    "for i in [100,200,300,400]:\n",
    "    s+=i\n",
    "print(s)"
   ]
  },
  {
   "cell_type": "code",
   "execution_count": 25,
   "metadata": {},
   "outputs": [
    {
     "name": "stdout",
     "output_type": "stream",
     "text": [
      "1000\n"
     ]
    }
   ],
   "source": [
    "s = 0 \n",
    "arr=[100,200,300,400]\n",
    "def re(arr):\n",
    "    if len(arr)== 0:\n",
    "        return s\n",
    "    return re(arr[1:]) + arr[0]\n",
    "print(re(arr))"
   ]
  },
  {
   "cell_type": "code",
   "execution_count": 32,
   "metadata": {},
   "outputs": [
    {
     "name": "stdout",
     "output_type": "stream",
     "text": [
      "64\n",
      "64\n"
     ]
    }
   ],
   "source": [
    "print(2**6)\n",
    "result = 1 \n",
    "for i in range(6):\n",
    "    result *= 2\n",
    "print(result)"
   ]
  },
  {
   "cell_type": "code",
   "execution_count": 40,
   "metadata": {},
   "outputs": [
    {
     "name": "stdout",
     "output_type": "stream",
     "text": [
      "32\n"
     ]
    }
   ],
   "source": [
    "def f(e, n):\n",
    "    if n == 1:\n",
    "        return n\n",
    "    return f(e, n-1) * e\n",
    "print(f(2, 6))\n"
   ]
  }
 ],
 "metadata": {
  "kernelspec": {
   "display_name": "Python 3",
   "language": "python",
   "name": "python3"
  },
  "language_info": {
   "codemirror_mode": {
    "name": "ipython",
    "version": 3
   },
   "file_extension": ".py",
   "mimetype": "text/x-python",
   "name": "python",
   "nbconvert_exporter": "python",
   "pygments_lexer": "ipython3",
   "version": "3.8.5"
  }
 },
 "nbformat": 4,
 "nbformat_minor": 4
}
